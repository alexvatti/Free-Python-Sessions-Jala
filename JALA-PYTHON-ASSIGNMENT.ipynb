{
 "cells": [
  {
   "cell_type": "markdown",
   "id": "95511934",
   "metadata": {},
   "source": [
    "# November 15 , Python Assignment"
   ]
  },
  {
   "cell_type": "markdown",
   "id": "20b096df",
   "metadata": {},
   "source": [
    "# Q 1: Program to generate upto n natural number (n is included)"
   ]
  },
  {
   "cell_type": "code",
   "execution_count": 3,
   "id": "76de8baa",
   "metadata": {
    "scrolled": true
   },
   "outputs": [
    {
     "name": "stdout",
     "output_type": "stream",
     "text": [
      "Enter a number , upto generate the natural numbers:10\n",
      "1 2 3 4 5 6 7 8 9 10 "
     ]
    }
   ],
   "source": [
    "num = int(input(\"Enter a number , upto generate the natural numbers:\"))\n",
    "for i in range(1,num+1):\n",
    "    print(i,end=\" \")"
   ]
  },
  {
   "cell_type": "code",
   "execution_count": 4,
   "id": "fb329fbb",
   "metadata": {},
   "outputs": [
    {
     "name": "stdout",
     "output_type": "stream",
     "text": [
      "Enter a number , upto generate the natural numbers:10\n",
      "1 2 3 4 5 6 7 8 9 10 "
     ]
    }
   ],
   "source": [
    "num = int(input(\"Enter a number , upto generate the natural numbers:\"))\n",
    "i = 1\n",
    "while i <= num:\n",
    "    print(i,end=\" \")\n",
    "    i = i + 1"
   ]
  },
  {
   "cell_type": "markdown",
   "id": "4966cf42",
   "metadata": {},
   "source": [
    "# Q 2: Program to sum of  n natural number (n is included)"
   ]
  },
  {
   "cell_type": "code",
   "execution_count": 5,
   "id": "9600ffe4",
   "metadata": {},
   "outputs": [
    {
     "name": "stdout",
     "output_type": "stream",
     "text": [
      "Enter a number , to find sum the natural numbers:10\n",
      "55\n"
     ]
    }
   ],
   "source": [
    "num = int(input(\"Enter a number , to find sum the natural numbers:\"))\n",
    "s = 0\n",
    "for i in range(1,num+1):\n",
    "    s = s+i\n",
    "print(s)"
   ]
  },
  {
   "cell_type": "code",
   "execution_count": 6,
   "id": "242393cd",
   "metadata": {},
   "outputs": [
    {
     "name": "stdout",
     "output_type": "stream",
     "text": [
      "Enter a number , to find sum the natural numbers:10\n",
      "55\n"
     ]
    }
   ],
   "source": [
    "num = int(input(\"Enter a number , to find sum the natural numbers:\"))\n",
    "s = 0\n",
    "i = 1\n",
    "while i <= num:\n",
    "    s = s+i\n",
    "    i = i + 1\n",
    "print(s)"
   ]
  },
  {
   "cell_type": "markdown",
   "id": "944c4cda",
   "metadata": {},
   "source": [
    "# Q 3 Find the Given Number is even or odd"
   ]
  },
  {
   "cell_type": "code",
   "execution_count": 11,
   "id": "36423945",
   "metadata": {},
   "outputs": [
    {
     "name": "stdout",
     "output_type": "stream",
     "text": [
      "Enter a number to check even or odd:5\n",
      "Given number 5 is  Odd Number\n"
     ]
    }
   ],
   "source": [
    "def check_even_odd(n):\n",
    "    if n%2 == 0:\n",
    "        return \"Even Number\"\n",
    "    else:\n",
    "        return \"Odd Number\"\n",
    "    \n",
    "n = int(input(\"Enter a number to check even or odd:\"))\n",
    "print(f\"Given number {n} is  {check_even_odd(n)}\")"
   ]
  },
  {
   "cell_type": "markdown",
   "id": "ddcf51a6",
   "metadata": {},
   "source": [
    "# Q 4 Find the Given Number is Prime or Not"
   ]
  },
  {
   "cell_type": "code",
   "execution_count": 15,
   "id": "a289f6f4",
   "metadata": {},
   "outputs": [
    {
     "name": "stdout",
     "output_type": "stream",
     "text": [
      "Enter a number to check prime number or not:6\n",
      "Given Number 6 is not Prime Number\n"
     ]
    }
   ],
   "source": [
    "def check_prime_num(n):\n",
    "    for i in range(2,n):\n",
    "        if n%i == 0:\n",
    "            return False\n",
    "    return True\n",
    "\n",
    "n = int(input(\"Enter a number to check prime number or not:\"))\n",
    "if check_prime_num(n):\n",
    "    print(f\"Given number {n} is  Prime Number\")\n",
    "else:\n",
    "    print(f\"Given Number {n} is not Prime Number\")"
   ]
  },
  {
   "cell_type": "markdown",
   "id": "f866ca76",
   "metadata": {},
   "source": [
    "# Q 5 To Print the Prime  Numbers upto given number"
   ]
  },
  {
   "cell_type": "code",
   "execution_count": 22,
   "id": "71fdf488",
   "metadata": {},
   "outputs": [
    {
     "name": "stdout",
     "output_type": "stream",
     "text": [
      "For Print the Prime Number for below Given number , Enter the number:100\n",
      "2 3 5 7 11 13 17 19 23 29 31 37 41 43 47 53 59 61 67 71 73 79 83 89 97 "
     ]
    }
   ],
   "source": [
    "n = int(input(\"For Print the Prime Number for below Given number , Enter the number:\"))\n",
    "for i in range(2,n+1):\n",
    "    if check_prime_num(i):\n",
    "        print(i,end=\" \")"
   ]
  },
  {
   "cell_type": "markdown",
   "id": "fc5f43be",
   "metadata": {},
   "source": [
    "# Q 6 To print a Fibonacci series for a given number of terms"
   ]
  },
  {
   "cell_type": "code",
   "execution_count": 21,
   "id": "39397f31",
   "metadata": {},
   "outputs": [
    {
     "name": "stdout",
     "output_type": "stream",
     "text": [
      "To print a Fibonacci series for a given number of terms, Enter a number:10\n",
      "1 1 2 3 5 8 13 21 34 55 "
     ]
    }
   ],
   "source": [
    "def fibonacci(n):\n",
    "    if n <= 2:\n",
    "        return 1\n",
    "    else:\n",
    "        return fibonacci(n-1) + fibonacci(n-2)\n",
    "    \n",
    "    \n",
    "n = int(input(\"To print a Fibonacci series for a given number of terms, Enter a number:\"))\n",
    "for i in range(1,n+1):\n",
    "    print(fibonacci(i),end=\" \")"
   ]
  },
  {
   "cell_type": "code",
   "execution_count": null,
   "id": "002af9f2",
   "metadata": {},
   "outputs": [],
   "source": []
  }
 ],
 "metadata": {
  "kernelspec": {
   "display_name": "Python 3 (ipykernel)",
   "language": "python",
   "name": "python3"
  },
  "language_info": {
   "codemirror_mode": {
    "name": "ipython",
    "version": 3
   },
   "file_extension": ".py",
   "mimetype": "text/x-python",
   "name": "python",
   "nbconvert_exporter": "python",
   "pygments_lexer": "ipython3",
   "version": "3.11.5"
  }
 },
 "nbformat": 4,
 "nbformat_minor": 5
}
