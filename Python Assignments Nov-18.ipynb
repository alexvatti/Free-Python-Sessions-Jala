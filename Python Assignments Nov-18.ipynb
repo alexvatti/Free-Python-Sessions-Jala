{
 "cells": [
  {
   "cell_type": "markdown",
   "id": "c4069883",
   "metadata": {},
   "source": [
    "# Python Assignments - Nov 18\n",
    "\n",
    "# 5 Questions (list , string , dict , set ,tuple)"
   ]
  },
  {
   "cell_type": "markdown",
   "id": "44e608b4",
   "metadata": {},
   "source": [
    "# Q - WAP - Common elements in two lists"
   ]
  },
  {
   "cell_type": "code",
   "execution_count": 2,
   "id": "fdb906d1",
   "metadata": {},
   "outputs": [
    {
     "name": "stdout",
     "output_type": "stream",
     "text": [
      "['house', 'study', 'trip']\n"
     ]
    }
   ],
   "source": [
    "l1 = ['car', 'house', 'emi', 'study' , 'trip' ]\n",
    "l2 = [ 'study', 'house', 'trip']\n",
    "\n",
    "def common_between_lists(l1,l2):\n",
    "    '''common elements in given two lists'''\n",
    "    common_elements = []\n",
    "    \n",
    "    for ele in l1:\n",
    "        if ele in l2:\n",
    "            common_elements.append(ele)\n",
    "    \n",
    "    return common_elements\n",
    "    \n",
    "    \n",
    "print(common_between_lists(l1,l2))\n"
   ]
  },
  {
   "cell_type": "code",
   "execution_count": 3,
   "id": "ba00ff9f",
   "metadata": {},
   "outputs": [
    {
     "name": "stdout",
     "output_type": "stream",
     "text": [
      "[3, 4, 5]\n"
     ]
    }
   ],
   "source": [
    "a=[1,2,3,4,5]\n",
    "b=[3,4,5,6,7]\n",
    "print([i for i in a if i in b]) # 3 4 5"
   ]
  },
  {
   "cell_type": "markdown",
   "id": "b92949cb",
   "metadata": {},
   "source": [
    "# Q 2  count  frequency of words of given list"
   ]
  },
  {
   "cell_type": "code",
   "execution_count": 9,
   "id": "ed444f38",
   "metadata": {},
   "outputs": [
    {
     "name": "stdout",
     "output_type": "stream",
     "text": [
      "{'hello': 3, 'world': 2, 'hi': 1}\n"
     ]
    }
   ],
   "source": [
    "l = [\"hello\", \"world\", \"hello\", \"hi\", \"world\" , \"hello\"]\n",
    "\n",
    "def count_frequency_words(l):\n",
    "    '''count the frequency of words of list'''\n",
    "    count_dict = {} # ele: count of occurance  - frequency (key:value)\n",
    "    \n",
    "    for ele in l:\n",
    "        if ele not in count_dict.keys():\n",
    "            count_dict[ele] = 1\n",
    "        else:\n",
    "            count_dict[ele] += 1\n",
    "            \n",
    "    return count_dict\n",
    "\n",
    "print(count_frequency_words(l))"
   ]
  },
  {
   "cell_type": "code",
   "execution_count": 8,
   "id": "754c1b29",
   "metadata": {},
   "outputs": [
    {
     "data": {
      "text/plain": [
       "{'hello': 2, 'world': 2, 'hi': 1}"
      ]
     },
     "execution_count": 8,
     "metadata": {},
     "output_type": "execute_result"
    }
   ],
   "source": [
    "d = { word:l.count(word) for word in l}\n",
    "d"
   ]
  },
  {
   "cell_type": "markdown",
   "id": "b911174a",
   "metadata": {},
   "source": [
    "# Q 3 - WAP - To find largest ele in the given list"
   ]
  },
  {
   "cell_type": "code",
   "execution_count": null,
   "id": "21db43a2",
   "metadata": {},
   "outputs": [],
   "source": [
    "-- Please solve the Code -- Pls get idea/hint\n",
    "\n",
    "l = [1,5,55,6,8,9,10,11,14,17,19,22]\n",
    "\n",
    "Pls do not use in built functions - like - sort /sorted / min/max - Pls do not use"
   ]
  },
  {
   "cell_type": "code",
   "execution_count": 10,
   "id": "1e534d97",
   "metadata": {},
   "outputs": [
    {
     "name": "stdout",
     "output_type": "stream",
     "text": [
      "55\n"
     ]
    }
   ],
   "source": [
    "l = [1,5,55,6,8,9,10,11,14,17,19,22]\n",
    "\n",
    "def largest_ele(l):\n",
    "    '''largest ele of given list'''\n",
    "    largest = l[0]\n",
    "    \n",
    "    for ele in l:\n",
    "        if ele > largest:\n",
    "            largest = ele\n",
    "    return largest\n",
    "\n",
    "print(largest_ele(l))            \n"
   ]
  },
  {
   "cell_type": "markdown",
   "id": "6b914130",
   "metadata": {},
   "source": [
    "# Q 4 - WAP - String is collection/list of chars within ' ' or \" \" either in sinlge/double quotes - WAP - Reverse string"
   ]
  },
  {
   "cell_type": "code",
   "execution_count": 13,
   "id": "aecffc5d",
   "metadata": {},
   "outputs": [
    {
     "name": "stdout",
     "output_type": "stream",
     "text": [
      "dlrow olleh\n"
     ]
    }
   ],
   "source": [
    "s = \"hello world\"\n",
    "output = \"olleh\"\n",
    "\n",
    "def revese_string(txt):\n",
    "    '''revese of given string'''\n",
    "    # slice method\n",
    "    return txt[: :-1]\n",
    "\n",
    "print(revese_string(s))   "
   ]
  },
  {
   "cell_type": "markdown",
   "id": "48d823d9",
   "metadata": {},
   "source": [
    "# Q 5 - WAP - Palindrom - or not"
   ]
  },
  {
   "cell_type": "markdown",
   "id": "f8217301",
   "metadata": {},
   "source": [
    "1. find reverse\n",
    "2. compare \n",
    "3. if both are same - Palindrom - it could be  num or string"
   ]
  },
  {
   "cell_type": "code",
   "execution_count": 15,
   "id": "98acf27f",
   "metadata": {},
   "outputs": [
    {
     "name": "stdout",
     "output_type": "stream",
     "text": [
      "Given string madam is palindrom\n"
     ]
    }
   ],
   "source": [
    "s = \"madam\"\n",
    "\n",
    "def check_palindrom(txt): # unit / reusability\n",
    "    if txt == txt[::-1]:\n",
    "        return True\n",
    "    else:\n",
    "        return False\n",
    "    \n",
    "if check_palindrom(s):\n",
    "    print(f\"Given string {s} is palindrom\")\n",
    "else:\n",
    "    print(f\"Given string {s} is not palindrom\")"
   ]
  },
  {
   "cell_type": "markdown",
   "id": "a10a81bb",
   "metadata": {},
   "source": [
    "# Doubt - Pls ASK"
   ]
  },
  {
   "cell_type": "code",
   "execution_count": null,
   "id": "77daaa58",
   "metadata": {},
   "outputs": [],
   "source": [
    "1"
   ]
  }
 ],
 "metadata": {
  "kernelspec": {
   "display_name": "Python 3 (ipykernel)",
   "language": "python",
   "name": "python3"
  },
  "language_info": {
   "codemirror_mode": {
    "name": "ipython",
    "version": 3
   },
   "file_extension": ".py",
   "mimetype": "text/x-python",
   "name": "python",
   "nbconvert_exporter": "python",
   "pygments_lexer": "ipython3",
   "version": "3.11.5"
  }
 },
 "nbformat": 4,
 "nbformat_minor": 5
}
