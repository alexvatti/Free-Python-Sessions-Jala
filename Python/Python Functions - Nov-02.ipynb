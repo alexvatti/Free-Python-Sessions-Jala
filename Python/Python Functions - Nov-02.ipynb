{
 "cells": [
  {
   "cell_type": "markdown",
   "id": "ab8b256e",
   "metadata": {},
   "source": [
    "# Name of the Mentor : Angel Mary \n",
    "# Date : 02-NOV-24\n",
    "# Time : 7:30 PM- 8:30 PM IST\n",
    "\n",
    "# Topic : Python (Functions)"
   ]
  },
  {
   "cell_type": "markdown",
   "id": "26b57064",
   "metadata": {},
   "source": [
    "# Python (Functions)"
   ]
  },
  {
   "cell_type": "markdown",
   "id": "1b68a2f1",
   "metadata": {},
   "source": [
    "# What is function\n",
    "- set of statements that can be perfomed some specific task\n",
    "- execute block - mutiple  times\n",
    "- break the program into small block/code\n",
    "- avoid reputation , use the function anywehere\n",
    "- user defined , built in functions (len , sorted , min , max , sum )"
   ]
  },
  {
   "cell_type": "code",
   "execution_count": 8,
   "id": "dc3af148",
   "metadata": {},
   "outputs": [
    {
     "name": "stdout",
     "output_type": "stream",
     "text": [
      "Good Evening, Kiran!\n"
     ]
    }
   ],
   "source": [
    "def greet(name):  # defination - def key word ,\n",
    "    print(f\"Good Evening, {name}!\")\n",
    "\n",
    "greet(\"Kiran\") # function call - call then execute"
   ]
  },
  {
   "cell_type": "code",
   "execution_count": null,
   "id": "7446e992",
   "metadata": {},
   "outputs": [],
   "source": [
    "def <function-name>(parameters): #parameters\n",
    "    <body>\n",
    "    return # optional\n",
    "\n",
    "<function-name>() # function call"
   ]
  },
  {
   "cell_type": "code",
   "execution_count": 9,
   "id": "a4cd6731",
   "metadata": {},
   "outputs": [
    {
     "name": "stdout",
     "output_type": "stream",
     "text": [
      "8\n"
     ]
    }
   ],
   "source": [
    "def add(x, y):  # x and y are parameters\n",
    "    return (x + y) # return the value to calling\n",
    "\n",
    "result = add(3, 5)  # 3 and 5 are arguments\n",
    "print(result)"
   ]
  },
  {
   "cell_type": "markdown",
   "id": "4a805d0a",
   "metadata": {},
   "source": [
    "# Methods of list"
   ]
  },
  {
   "cell_type": "code",
   "execution_count": 12,
   "id": "8d09e630",
   "metadata": {},
   "outputs": [],
   "source": [
    "# ordered ele, in square brackets , hectro geneous [int ,string ,float, bool] \n",
    "# mutable - Read and Write"
   ]
  },
  {
   "cell_type": "code",
   "execution_count": 11,
   "id": "ca24a299",
   "metadata": {},
   "outputs": [
    {
     "data": {
      "text/plain": [
       "['Maruthi', 'VW', 'BWM', 'Hyundai']"
      ]
     },
     "execution_count": 11,
     "metadata": {},
     "output_type": "execute_result"
    }
   ],
   "source": [
    "cars = [\"Maruthi\", \"VW\", \"BWM\" ,\"Hyundai\"]\n",
    "cars"
   ]
  },
  {
   "cell_type": "code",
   "execution_count": 16,
   "id": "890b748b",
   "metadata": {},
   "outputs": [
    {
     "name": "stdout",
     "output_type": "stream",
     "text": [
      "Maruthi\n",
      "VW\n",
      "BWM\n"
     ]
    }
   ],
   "source": [
    "# index start with 0\n",
    "print(cars[0])\n",
    "print(cars[1])\n",
    "print(cars[2])"
   ]
  },
  {
   "cell_type": "code",
   "execution_count": 18,
   "id": "b25cf4a2",
   "metadata": {},
   "outputs": [
    {
     "data": {
      "text/plain": [
       "['VW', 'BWM']"
      ]
     },
     "execution_count": 18,
     "metadata": {},
     "output_type": "execute_result"
    }
   ],
   "source": [
    "# slice - specific ele\n",
    "cars[1:3] # start: end \"VW\",\"BWM\" , last=n-1"
   ]
  },
  {
   "cell_type": "code",
   "execution_count": 19,
   "id": "43d27f85",
   "metadata": {},
   "outputs": [
    {
     "data": {
      "text/plain": [
       "['Maruthi', 'VW', 'BWM', 'Hyundai', 'Maruthi', 'VW', 'BWM', 'Hyundai']"
      ]
     },
     "execution_count": 19,
     "metadata": {},
     "output_type": "execute_result"
    }
   ],
   "source": [
    "cars*2"
   ]
  },
  {
   "cell_type": "code",
   "execution_count": 21,
   "id": "618ef433",
   "metadata": {},
   "outputs": [
    {
     "data": {
      "text/plain": [
       "['Maruthi', 'VW', 'BWM', 'Hyundai', 'Tesla']"
      ]
     },
     "execution_count": 21,
     "metadata": {},
     "output_type": "execute_result"
    }
   ],
   "source": [
    "# append - add ele to last postion\n",
    "cars.append(\"Tesla\")\n",
    "cars"
   ]
  },
  {
   "cell_type": "code",
   "execution_count": 22,
   "id": "91179b90",
   "metadata": {},
   "outputs": [
    {
     "data": {
      "text/plain": [
       "['Toyata', 'Maruthi', 'VW', 'BWM', 'Hyundai', 'Tesla']"
      ]
     },
     "execution_count": 22,
     "metadata": {},
     "output_type": "execute_result"
    }
   ],
   "source": [
    "# insert - add ele in the position (0 , len-1)\n",
    "cars.insert(0,\"Toyata\")\n",
    "cars"
   ]
  },
  {
   "cell_type": "code",
   "execution_count": 24,
   "id": "1fc54190",
   "metadata": {},
   "outputs": [
    {
     "data": {
      "text/plain": [
       "['VW', 'BWM', 'Hyundai', 'Tesla']"
      ]
     },
     "execution_count": 24,
     "metadata": {},
     "output_type": "execute_result"
    }
   ],
   "source": [
    "# pop - remove \n",
    "cars.pop(0) # index based\n",
    "cars"
   ]
  },
  {
   "cell_type": "code",
   "execution_count": 25,
   "id": "83045837",
   "metadata": {},
   "outputs": [
    {
     "data": {
      "text/plain": [
       "['BWM', 'Hyundai', 'Tesla']"
      ]
     },
     "execution_count": 25,
     "metadata": {},
     "output_type": "execute_result"
    }
   ],
   "source": [
    "# remove\n",
    "cars.remove(\"VW\") # ele\n",
    "cars"
   ]
  },
  {
   "cell_type": "code",
   "execution_count": 28,
   "id": "9d082caa",
   "metadata": {},
   "outputs": [
    {
     "data": {
      "text/plain": [
       "['Tesla', 'Hyundai', 'BWM']"
      ]
     },
     "execution_count": 28,
     "metadata": {},
     "output_type": "execute_result"
    }
   ],
   "source": [
    "# sort the values in asecnding , descending\n",
    "\n",
    "cars.sort(reverse=True)\n",
    "cars\n"
   ]
  },
  {
   "cell_type": "markdown",
   "id": "6fe445d0",
   "metadata": {},
   "source": [
    "# Summary\n",
    "- insert\n",
    "- append\n",
    "- pop\n",
    "- remove\n",
    "- sort\n",
    "- max\n",
    "- min\n",
    "- len\n",
    "- sum\n",
    "- count\n",
    "\n",
    "- index\n",
    "- slice"
   ]
  },
  {
   "cell_type": "code",
   "execution_count": 30,
   "id": "f1491bdc",
   "metadata": {},
   "outputs": [
    {
     "data": {
      "text/plain": [
       "3"
      ]
     },
     "execution_count": 30,
     "metadata": {},
     "output_type": "execute_result"
    }
   ],
   "source": [
    "len(cars)"
   ]
  },
  {
   "cell_type": "code",
   "execution_count": 32,
   "id": "7308095b",
   "metadata": {},
   "outputs": [
    {
     "data": {
      "text/plain": [
       "1"
      ]
     },
     "execution_count": 32,
     "metadata": {},
     "output_type": "execute_result"
    }
   ],
   "source": [
    "cars.count(\"BWM\") # how many times occurs /repated"
   ]
  },
  {
   "cell_type": "code",
   "execution_count": 36,
   "id": "389b77e7",
   "metadata": {},
   "outputs": [
    {
     "name": "stdout",
     "output_type": "stream",
     "text": [
      "length: 11\n",
      "count: 2\n"
     ]
    }
   ],
   "source": [
    "l = [1,1,2,2,3,4,5,6,7,7,8]\n",
    "print(\"length:\", len(l))\n",
    "print(\"count:\", l.count(1))"
   ]
  },
  {
   "cell_type": "markdown",
   "id": "0f0c1983",
   "metadata": {},
   "source": [
    "# angelmarypoulina@gmail.com"
   ]
  }
 ],
 "metadata": {
  "kernelspec": {
   "display_name": "Python 3 (ipykernel)",
   "language": "python",
   "name": "python3"
  },
  "language_info": {
   "codemirror_mode": {
    "name": "ipython",
    "version": 3
   },
   "file_extension": ".py",
   "mimetype": "text/x-python",
   "name": "python",
   "nbconvert_exporter": "python",
   "pygments_lexer": "ipython3",
   "version": "3.11.5"
  }
 },
 "nbformat": 4,
 "nbformat_minor": 5
}
