{
 "cells": [
  {
   "cell_type": "markdown",
   "id": "7b2b7a96",
   "metadata": {},
   "source": [
    "# Name of the Mentor : Angel Mary \n",
    "# Date : 18-NOV-24\n",
    "# Time : 8:00 PM - 9:00PM IST \n",
    "\n",
    "# Topic : Python (Assesment doubt session)"
   ]
  },
  {
   "cell_type": "markdown",
   "id": "56076ad9",
   "metadata": {},
   "source": [
    "# Q 1 Write a python program to remove duplicates from a list"
   ]
  },
  {
   "cell_type": "code",
   "execution_count": 2,
   "id": "f26d0660",
   "metadata": {},
   "outputs": [
    {
     "name": "stdout",
     "output_type": "stream",
     "text": [
      "['hello', 'world', 'pyhton']\n"
     ]
    }
   ],
   "source": [
    "l = [\"hello\", \"hello\", \"world\", \"pyhton\"]\n",
    "\n",
    "def remove_duplicates_list(lst):\n",
    "    '''remove the duplicates from the list'''\n",
    "    unique_list = []\n",
    "    for ele in lst:\n",
    "        if ele not in unique_list:\n",
    "            unique_list.append(ele)\n",
    "    return unique_list\n",
    "\n",
    "print(remove_duplicates_list(l))"
   ]
  },
  {
   "cell_type": "markdown",
   "id": "1ee53175",
   "metadata": {},
   "source": [
    "# Q 2 Write a program to calculate the Area of a Triangle "
   ]
  },
  {
   "cell_type": "code",
   "execution_count": 3,
   "id": "b81e1412",
   "metadata": {},
   "outputs": [
    {
     "name": "stdout",
     "output_type": "stream",
     "text": [
      "25.0\n"
     ]
    }
   ],
   "source": [
    "def area_triangle(b,h):\n",
    "    '''area of triangle'''\n",
    "    return 0.5*b*h\n",
    "\n",
    "print(area_triangle(5,10))"
   ]
  },
  {
   "cell_type": "markdown",
   "id": "678744cb",
   "metadata": {},
   "source": [
    "# Q 3 Python Program to Swap Two Variables."
   ]
  },
  {
   "cell_type": "code",
   "execution_count": 4,
   "id": "3fb5ecea",
   "metadata": {},
   "outputs": [
    {
     "name": "stdout",
     "output_type": "stream",
     "text": [
      "(60, 100)\n"
     ]
    }
   ],
   "source": [
    "def swap_variables(a,b):\n",
    "    '''swap variables'''\n",
    "    a,b=b,a\n",
    "    return a,b\n",
    "print(swap_variables(100,60))"
   ]
  },
  {
   "cell_type": "markdown",
   "id": "f9abb84c",
   "metadata": {},
   "source": [
    "# Q 4 Python Program to Check if a Number is Odd or Even."
   ]
  },
  {
   "cell_type": "code",
   "execution_count": 5,
   "id": "fce6866d",
   "metadata": {},
   "outputs": [
    {
     "name": "stdout",
     "output_type": "stream",
     "text": [
      "4 is even number\n"
     ]
    }
   ],
   "source": [
    "def check_even_odd(n):\n",
    "    '''check num is even or odd'''\n",
    "    if n%2 == 0:\n",
    "        print(f\"{n} is even number\")\n",
    "    else:\n",
    "        print(f\"{n} is odd number\")\n",
    "check_even_odd(4)"
   ]
  },
  {
   "cell_type": "markdown",
   "id": "2df5d07b",
   "metadata": {},
   "source": [
    "# Q 5 Python Program to Check Leap Year"
   ]
  },
  {
   "cell_type": "code",
   "execution_count": 6,
   "id": "f5259ef0",
   "metadata": {},
   "outputs": [
    {
     "name": "stdout",
     "output_type": "stream",
     "text": [
      "case 2\n",
      "False\n"
     ]
    }
   ],
   "source": [
    "def leap_year(year):\n",
    "    '''check given year is leap year or not'''\n",
    "    if year % 400 == 0:\n",
    "        print(\"case 1\")\n",
    "        return True\n",
    "    elif year % 100 == 0:\n",
    "        print(\"case 2\")\n",
    "        return False\n",
    "    elif year % 4 == 0:\n",
    "        print(\"case 3\")\n",
    "        return True\n",
    "    else:\n",
    "        return False\n",
    "\n",
    "print(leap_year(1700))        "
   ]
  }
 ],
 "metadata": {
  "kernelspec": {
   "display_name": "Python 3 (ipykernel)",
   "language": "python",
   "name": "python3"
  },
  "language_info": {
   "codemirror_mode": {
    "name": "ipython",
    "version": 3
   },
   "file_extension": ".py",
   "mimetype": "text/x-python",
   "name": "python",
   "nbconvert_exporter": "python",
   "pygments_lexer": "ipython3",
   "version": "3.11.5"
  }
 },
 "nbformat": 4,
 "nbformat_minor": 5
}
