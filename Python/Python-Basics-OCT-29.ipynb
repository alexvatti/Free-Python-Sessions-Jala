{
 "cells": [
  {
   "cell_type": "markdown",
   "id": "009fbc12",
   "metadata": {},
   "source": [
    "# Name of the Mentor : Angel Mary \n",
    "# Date : 29-OCT-24\n",
    "# Time : 1:00 PM- 2:00 PM IST\n",
    "\n",
    "# Topic : Python(Basics)"
   ]
  },
  {
   "cell_type": "markdown",
   "id": "a3810960",
   "metadata": {},
   "source": [
    "# if\n",
    "# else\n",
    "\n",
    "---------------------------------------------------------------------\n",
    "\n",
    "# if\n",
    "# elif\n",
    "# else"
   ]
  },
  {
   "cell_type": "code",
   "execution_count": 2,
   "id": "3aabfe12",
   "metadata": {},
   "outputs": [
    {
     "name": "stdout",
     "output_type": "stream",
     "text": [
      "Pls Enter Your Name: JALA\n",
      "Pls Enter your age(in Yrs): 30\n",
      "Eligable for voting\n"
     ]
    }
   ],
   "source": [
    "voting_age=25\n",
    "\n",
    "name = input(\"Pls Enter Your Name: \") #string\n",
    "\n",
    "age = int(input(\"Pls Enter your age(in Yrs): \")) #string to num\n",
    "\n",
    "if age >= voting_age:\n",
    "    print(\"Eligable for voting\") #block of code (4 spaces/tab)\n",
    "else:\n",
    "    print(\"Not eligable for voting\")"
   ]
  },
  {
   "cell_type": "code",
   "execution_count": null,
   "id": "072df928",
   "metadata": {},
   "outputs": [],
   "source": [
    "if <condition> :\n",
    "    <if body>\n",
    "else:\n",
    "    <else body>"
   ]
  },
  {
   "cell_type": "code",
   "execution_count": 6,
   "id": "344ba1f0",
   "metadata": {},
   "outputs": [
    {
     "name": "stdout",
     "output_type": "stream",
     "text": [
      "Number is Positive\n"
     ]
    }
   ],
   "source": [
    "num = 10\n",
    "\n",
    "if num > 0: # check codition \n",
    "    print(\"Number is Positive\")\n",
    "elif num < 0: # check condition \n",
    "    print(\"Number is Negative\")\n",
    "else: # else\n",
    "    print(\"Number is Zero\")   \n"
   ]
  },
  {
   "cell_type": "code",
   "execution_count": 9,
   "id": "db8f9aef",
   "metadata": {},
   "outputs": [
    {
     "name": "stdout",
     "output_type": "stream",
     "text": [
      "Enter the value: 5\n",
      "Higher\n"
     ]
    }
   ],
   "source": [
    "my_guess  = 10\n",
    "your_guess = int(input(\"Enter the value: \")) \n",
    "\n",
    "if my_guess < your_guess: \n",
    "    print(\"Lower\")\n",
    "elif my_guess > your_guess:\n",
    "    print(\"Higher\")\n",
    "else:\n",
    "    print(\"Both are Same  - You Got it\")"
   ]
  },
  {
   "cell_type": "markdown",
   "id": "b9f1bebf",
   "metadata": {},
   "source": [
    "# loops"
   ]
  },
  {
   "cell_type": "markdown",
   "id": "72302828",
   "metadata": {},
   "source": [
    "# for\n",
    "# while (do-while)\n",
    "# break\n",
    "# continue"
   ]
  },
  {
   "cell_type": "code",
   "execution_count": 22,
   "id": "21063040",
   "metadata": {},
   "outputs": [
    {
     "name": "stdout",
     "output_type": "stream",
     "text": [
      "index:  0 value: maruthi\n",
      "index:  1 value: vw\n",
      "maruthi\n",
      "vw\n",
      "BWM\n",
      "Hundai\n"
     ]
    }
   ],
   "source": [
    "cars = [\"maruthi\", \"vw\", \"BWM\", \"Hundai\"] # list - sequence\n",
    "print(\"index: \",0, \"value:\", cars[0]) # index start with 0\n",
    "print(\"index: \",1, \"value:\", cars[1]) # index start with 0\n",
    "\n",
    "for car in cars:  # it iterate - again and again from the list/sequence - until end/condition true\n",
    "    print(car)"
   ]
  },
  {
   "cell_type": "code",
   "execution_count": null,
   "id": "9802175b",
   "metadata": {},
   "outputs": [],
   "source": [
    "# syntax \n",
    "for <variable> in <sequence>:\n",
    "    <for body - statements>"
   ]
  },
  {
   "cell_type": "code",
   "execution_count": 13,
   "id": "51f3b6b3",
   "metadata": {},
   "outputs": [
    {
     "name": "stdout",
     "output_type": "stream",
     "text": [
      "3\n",
      "4\n",
      "5\n",
      "6\n",
      "7\n"
     ]
    }
   ],
   "source": [
    "num_list = [1,2,3,4,5]\n",
    "for i in num_list:\n",
    "    print(i+2) # operations (add)+ ,(sub) - ,(mul) * ,(div) / , (power)** ,(rem) %, (floor) //\n",
    "    # 1 + 2\n",
    "    # 2 + 2\n",
    "    # 3 + 2\n",
    "    # 4 + 2\n",
    "    # 5 + 2"
   ]
  },
  {
   "cell_type": "code",
   "execution_count": 18,
   "id": "1fbe4d96",
   "metadata": {},
   "outputs": [
    {
     "name": "stdout",
     "output_type": "stream",
     "text": [
      "index: 0 value: 1\n",
      "index: 1 value: 2\n",
      "index: 2 value: 3\n",
      "index: 3 value: 4\n",
      "index: 4 value: 5\n"
     ]
    }
   ],
   "source": [
    "num_list = [1,2,3,4,5]\n",
    "j = 0\n",
    "for i in num_list:\n",
    "    print(\"index:\", j,\"value:\", i) # index start with 0\n",
    "    j=j+1"
   ]
  },
  {
   "cell_type": "markdown",
   "id": "69e1c650",
   "metadata": {},
   "source": [
    "# Thanks\n",
    "# angelmarypoulina@gmail.com"
   ]
  }
 ],
 "metadata": {
  "kernelspec": {
   "display_name": "Python 3 (ipykernel)",
   "language": "python",
   "name": "python3"
  },
  "language_info": {
   "codemirror_mode": {
    "name": "ipython",
    "version": 3
   },
   "file_extension": ".py",
   "mimetype": "text/x-python",
   "name": "python",
   "nbconvert_exporter": "python",
   "pygments_lexer": "ipython3",
   "version": "3.11.5"
  }
 },
 "nbformat": 4,
 "nbformat_minor": 5
}
