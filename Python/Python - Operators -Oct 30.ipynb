{
 "cells": [
  {
   "cell_type": "markdown",
   "id": "6c43ec5b",
   "metadata": {},
   "source": [
    "# Name of the Mentor : Angel Mary \n",
    "# Date : 30-OCT-24\n",
    "# Time : 4:00 PM- 5:00 PM IST\n",
    "\n",
    "# Topic : Python(Operators)"
   ]
  },
  {
   "cell_type": "markdown",
   "id": "8931a9ff",
   "metadata": {},
   "source": [
    "#  Welcome to Python(Operators)\n",
    "\n",
    "##  1. Arithmetic Operators: +, -, *, /, %, **, //\n",
    "##  2. Comparison Operators: ==, !=, >, <, >=, <=\n",
    "##  3. Assignment Operators: =, +=, -=, *=, /=, %=, **=, //=\n",
    "##  4. Logical Operators: and, or, not\n",
    "##  5. Bitwise Operators: &, |, ^, ~, <<, >>\n",
    "##  6. Membership Operators: in, not in\n",
    "##  8. Identity Operators: is, is not"
   ]
  },
  {
   "cell_type": "markdown",
   "id": "44f7ce76",
   "metadata": {},
   "source": [
    "# Arithmetic Operators: +, -, *, /, %, **, //"
   ]
  },
  {
   "cell_type": "code",
   "execution_count": 1,
   "id": "8e0773f4",
   "metadata": {},
   "outputs": [
    {
     "name": "stdout",
     "output_type": "stream",
     "text": [
      "20\n",
      "0\n",
      "100\n",
      "1.0\n",
      "0\n",
      "10000000000\n",
      "1\n"
     ]
    }
   ],
   "source": [
    "b=10\n",
    "c=10\n",
    "\n",
    "a = b + c  # b, c operands , + operator\n",
    "print(a)\n",
    "\n",
    "a = b - c # -\n",
    "print(a)\n",
    "\n",
    "a = b * c # mul\n",
    "print(a)\n",
    "\n",
    "a = b / c # divi 10/10 - float quotent  1.0\n",
    "print(a)\n",
    "\n",
    "a = b%c # rem 10/10 reminder = 0\n",
    "print(a)\n",
    "\n",
    "a = b**c # pow 10^10\n",
    "print(a)\n",
    "\n",
    "a = b//c # floor quotent  round(1.0)\n",
    "print(a)"
   ]
  },
  {
   "cell_type": "markdown",
   "id": "3fc39a8a",
   "metadata": {},
   "source": [
    "# Comparison/Relational  Operators: ==, !=, >, <, >=, <="
   ]
  },
  {
   "cell_type": "code",
   "execution_count": 4,
   "id": "d1ae83c5",
   "metadata": {
    "scrolled": true
   },
   "outputs": [
    {
     "name": "stdout",
     "output_type": "stream",
     "text": [
      "False\n",
      "True\n",
      "True\n",
      "False\n",
      "True\n",
      "False\n"
     ]
    }
   ],
   "source": [
    "b = 20\n",
    "c = 10\n",
    "print(b==c) # false\n",
    "print(b!=c) # True\n",
    "print(b>c) # True\n",
    "print(b<c) # false\n",
    "print(b>=c) # true\n",
    "print(b<=c) # false"
   ]
  },
  {
   "cell_type": "code",
   "execution_count": 5,
   "id": "38693d26",
   "metadata": {
    "scrolled": true
   },
   "outputs": [
    {
     "name": "stdout",
     "output_type": "stream",
     "text": [
      "Enter number 1:20\n",
      "Enter number 2:10\n",
      "num1 is largest among two numbers\n"
     ]
    }
   ],
   "source": [
    "# greatest of two numbers\n",
    "num1  = int(input(\"Pls Enter number 1:\"))\n",
    "num2  = int(input(\"Pls Enter number 2:\"))\n",
    "if num1 > num2:\n",
    "    print(\"num1 is largest among two numbers\")\n",
    "else:\n",
    "    print(\"num2 is largest among two numbers\")"
   ]
  },
  {
   "cell_type": "markdown",
   "id": "10cbb3fc",
   "metadata": {},
   "source": [
    "# Assignment Operators: =, +=, -=, *=, /=, %=, **=, //="
   ]
  },
  {
   "cell_type": "code",
   "execution_count": 7,
   "id": "99bdc0e1",
   "metadata": {},
   "outputs": [
    {
     "name": "stdout",
     "output_type": "stream",
     "text": [
      "11\n"
     ]
    }
   ],
   "source": [
    "a = 1 #assignmnet\n",
    "a += 10  # a = a + 10 = 1 + 10 = 11\n",
    "print(a)\n"
   ]
  },
  {
   "cell_type": "code",
   "execution_count": 8,
   "id": "89462193",
   "metadata": {},
   "outputs": [
    {
     "name": "stdout",
     "output_type": "stream",
     "text": [
      "-9\n"
     ]
    }
   ],
   "source": [
    "b=1\n",
    "b -= 10  # b = b- 10 = 1 - 10 = -9\n",
    "print(b)\n"
   ]
  },
  {
   "cell_type": "code",
   "execution_count": 9,
   "id": "1ec06af5",
   "metadata": {},
   "outputs": [
    {
     "name": "stdout",
     "output_type": "stream",
     "text": [
      "10\n"
     ]
    }
   ],
   "source": [
    "c=1\n",
    "c *= 10  # c = c*10 = 1 * 10 = 10\n",
    "print(c)"
   ]
  },
  {
   "cell_type": "code",
   "execution_count": 13,
   "id": "ae96fe7f",
   "metadata": {},
   "outputs": [
    {
     "name": "stdout",
     "output_type": "stream",
     "text": [
      "1.0\n"
     ]
    }
   ],
   "source": [
    "c=10\n",
    "c /= 10  # \n",
    "print(c)"
   ]
  },
  {
   "cell_type": "code",
   "execution_count": 14,
   "id": "b5d5f7ab",
   "metadata": {},
   "outputs": [
    {
     "name": "stdout",
     "output_type": "stream",
     "text": [
      "1024\n"
     ]
    }
   ],
   "source": [
    "c=2\n",
    "c **= 10  # \n",
    "print(c)"
   ]
  },
  {
   "cell_type": "code",
   "execution_count": 15,
   "id": "1dfd19cd",
   "metadata": {},
   "outputs": [
    {
     "name": "stdout",
     "output_type": "stream",
     "text": [
      "0\n"
     ]
    }
   ],
   "source": [
    "c=5\n",
    "c //= 10  # \n",
    "print(c)"
   ]
  },
  {
   "cell_type": "markdown",
   "id": "a7b3a230",
   "metadata": {},
   "source": [
    "# Logical Operators: and, or, not"
   ]
  },
  {
   "cell_type": "code",
   "execution_count": 16,
   "id": "d7e71e03",
   "metadata": {
    "scrolled": false
   },
   "outputs": [
    {
     "name": "stdout",
     "output_type": "stream",
     "text": [
      "False\n",
      "True\n",
      "False\n"
     ]
    }
   ],
   "source": [
    "a = True\n",
    "b = False\n",
    "c = True\n",
    "print(a and b) # if both are true - output true else false\n",
    "print(a or b) # if anyone is true - output true else false\n",
    "print(not c) # not - negation of value"
   ]
  },
  {
   "cell_type": "markdown",
   "id": "3ce1bb6e",
   "metadata": {},
   "source": [
    "# Bitwise Operators: &, |, ^, ~, <<, >>"
   ]
  },
  {
   "cell_type": "markdown",
   "id": "ecb0e034",
   "metadata": {},
   "source": [
    "\n",
    "# &  - bitwise and , Both bits are true - true else false\n",
    "# | - bitwise or , any one of bits are true - true else false\n",
    "# ^ - exlusise OR -XOR , true - either one bit is true  - not both\n",
    "# << -- Left shift --right bits moved to left\n",
    "# >> -- Right Shift -- bits moved to right "
   ]
  },
  {
   "cell_type": "code",
   "execution_count": 17,
   "id": "d94a25b7",
   "metadata": {
    "scrolled": true
   },
   "outputs": [
    {
     "name": "stdout",
     "output_type": "stream",
     "text": [
      "10\n",
      "15\n",
      "5\n"
     ]
    }
   ],
   "source": [
    "a=10\n",
    "b=15\n",
    "print(a&b)\n",
    "print(a|b)\n",
    "print(a^b)"
   ]
  },
  {
   "cell_type": "markdown",
   "id": "be911e01",
   "metadata": {},
   "source": [
    "# Membership Operators: in, not in"
   ]
  },
  {
   "cell_type": "code",
   "execution_count": 20,
   "id": "946dd752",
   "metadata": {},
   "outputs": [
    {
     "name": "stdout",
     "output_type": "stream",
     "text": [
      "True\n",
      "False\n"
     ]
    }
   ],
   "source": [
    "car = [\"maruthi\", \"vw\", \"bwm\", \"hondai\"]\n",
    "print(\"vw\" in car)\n",
    "print(\"vim\" in car)"
   ]
  },
  {
   "cell_type": "markdown",
   "id": "44b48e79",
   "metadata": {},
   "source": [
    "# Identity Operators: is, is not"
   ]
  },
  {
   "cell_type": "code",
   "execution_count": 26,
   "id": "9f2d0ecb",
   "metadata": {},
   "outputs": [
    {
     "name": "stdout",
     "output_type": "stream",
     "text": [
      "True\n"
     ]
    }
   ],
   "source": [
    "a=10\n",
    "b=a\n",
    "print(a is b) # same adrress location"
   ]
  },
  {
   "cell_type": "code",
   "execution_count": 23,
   "id": "143874c1",
   "metadata": {},
   "outputs": [
    {
     "name": "stdout",
     "output_type": "stream",
     "text": [
      "False\n"
     ]
    }
   ],
   "source": [
    "c=20\n",
    "print(a is c)"
   ]
  },
  {
   "cell_type": "code",
   "execution_count": 24,
   "id": "2f4a0255",
   "metadata": {},
   "outputs": [
    {
     "name": "stdout",
     "output_type": "stream",
     "text": [
      "True\n"
     ]
    }
   ],
   "source": [
    "print(a is not c)"
   ]
  },
  {
   "cell_type": "code",
   "execution_count": 25,
   "id": "c6f04149",
   "metadata": {},
   "outputs": [
    {
     "name": "stdout",
     "output_type": "stream",
     "text": [
      "False\n"
     ]
    }
   ],
   "source": [
    "print(a is not b)"
   ]
  },
  {
   "cell_type": "markdown",
   "id": "36c866be",
   "metadata": {},
   "source": [
    "# inc ,dec"
   ]
  },
  {
   "cell_type": "markdown",
   "id": "2ad2b18e",
   "metadata": {},
   "source": [
    "# ++\n",
    "# --"
   ]
  },
  {
   "cell_type": "code",
   "execution_count": 33,
   "id": "a55c8d74",
   "metadata": {},
   "outputs": [
    {
     "name": "stdout",
     "output_type": "stream",
     "text": [
      "11\n"
     ]
    }
   ],
   "source": [
    "a=10\n",
    "a+=1\n",
    "print(a)"
   ]
  },
  {
   "cell_type": "code",
   "execution_count": 34,
   "id": "1953d114",
   "metadata": {},
   "outputs": [
    {
     "name": "stdout",
     "output_type": "stream",
     "text": [
      "9\n"
     ]
    }
   ],
   "source": [
    "a=10\n",
    "a-=1\n",
    "print(a)"
   ]
  },
  {
   "cell_type": "markdown",
   "id": "ce5b3c0d",
   "metadata": {},
   "source": [
    "##  diff / vs //"
   ]
  },
  {
   "cell_type": "code",
   "execution_count": 35,
   "id": "f36e2300",
   "metadata": {},
   "outputs": [
    {
     "name": "stdout",
     "output_type": "stream",
     "text": [
      "2.5\n",
      "2\n"
     ]
    }
   ],
   "source": [
    "a=2\n",
    "b=5\n",
    "print(b/a) \n",
    "print(b//a)"
   ]
  },
  {
   "cell_type": "code",
   "execution_count": null,
   "id": "a839f389",
   "metadata": {},
   "outputs": [],
   "source": []
  }
 ],
 "metadata": {
  "kernelspec": {
   "display_name": "Python 3 (ipykernel)",
   "language": "python",
   "name": "python3"
  },
  "language_info": {
   "codemirror_mode": {
    "name": "ipython",
    "version": 3
   },
   "file_extension": ".py",
   "mimetype": "text/x-python",
   "name": "python",
   "nbconvert_exporter": "python",
   "pygments_lexer": "ipython3",
   "version": "3.11.5"
  }
 },
 "nbformat": 4,
 "nbformat_minor": 5
}
