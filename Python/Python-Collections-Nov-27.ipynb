{
 "cells": [
  {
   "cell_type": "code",
   "execution_count": 16,
   "id": "f994b66e",
   "metadata": {},
   "outputs": [
    {
     "data": {
      "text/plain": [
       "['ChainMap',\n",
       " 'Counter',\n",
       " 'OrderedDict',\n",
       " 'UserDict',\n",
       " 'UserList',\n",
       " 'UserString',\n",
       " '_Link',\n",
       " '_OrderedDictItemsView',\n",
       " '_OrderedDictKeysView',\n",
       " '_OrderedDictValuesView',\n",
       " '__all__',\n",
       " '__builtins__',\n",
       " '__cached__',\n",
       " '__doc__',\n",
       " '__file__',\n",
       " '__loader__',\n",
       " '__name__',\n",
       " '__package__',\n",
       " '__path__',\n",
       " '__spec__',\n",
       " '_chain',\n",
       " '_collections_abc',\n",
       " '_count_elements',\n",
       " '_eq',\n",
       " '_iskeyword',\n",
       " '_itemgetter',\n",
       " '_proxy',\n",
       " '_recursive_repr',\n",
       " '_repeat',\n",
       " '_starmap',\n",
       " '_sys',\n",
       " '_tuplegetter',\n",
       " 'abc',\n",
       " 'defaultdict',\n",
       " 'deque',\n",
       " 'namedtuple']"
      ]
     },
     "execution_count": 16,
     "metadata": {},
     "output_type": "execute_result"
    }
   ],
   "source": [
    "import collections \n",
    "dir(collections)"
   ]
  },
  {
   "cell_type": "code",
   "execution_count": 19,
   "id": "4281dff9",
   "metadata": {},
   "outputs": [
    {
     "name": "stdout",
     "output_type": "stream",
     "text": [
      "Counter({'a': 5, 'b': 4, 'c': 3, 'd': 2, 'e': 1})\n"
     ]
    }
   ],
   "source": [
    "from collections import Counter\n",
    "c = Counter('abcdeabcdabcaba')  # count elements from a string\n",
    "print(c)"
   ]
  },
  {
   "cell_type": "code",
   "execution_count": 20,
   "id": "b07970a9",
   "metadata": {},
   "outputs": [
    {
     "name": "stdout",
     "output_type": "stream",
     "text": [
      "Counter({1: 2, 2: 2, 3: 2, 4: 1, 5: 1, 6: 1})\n"
     ]
    }
   ],
   "source": [
    "c = Counter([1,2,3,1,2,3,4,5,6])  \n",
    "print(c)"
   ]
  },
  {
   "cell_type": "code",
   "execution_count": 23,
   "id": "ec3663a3",
   "metadata": {},
   "outputs": [
    {
     "name": "stdout",
     "output_type": "stream",
     "text": [
      "Counter({'name': ['Aravind', 'Alex'], 'age': [40, 20]})\n"
     ]
    }
   ],
   "source": [
    "c = Counter({\"name\":[\"Aravind\",\"Alex\"], \"age\":[40,20]})  \n",
    "print(c)"
   ]
  },
  {
   "cell_type": "code",
   "execution_count": 24,
   "id": "1e68af5c",
   "metadata": {},
   "outputs": [
    {
     "name": "stdout",
     "output_type": "stream",
     "text": [
      "Counter({'he': 2, 'is': 2, 'doing': 1, 'good': 1, 'now': 1, 'fine': 1})\n"
     ]
    }
   ],
   "source": [
    "s = \"he is doing good now he is fine\"\n",
    "c = Counter(s.split())  \n",
    "print(c)"
   ]
  },
  {
   "cell_type": "code",
   "execution_count": 25,
   "id": "dbd32ca6",
   "metadata": {
    "scrolled": true
   },
   "outputs": [
    {
     "name": "stdout",
     "output_type": "stream",
     "text": [
      "Help on class OrderedDict in module collections:\n",
      "\n",
      "class OrderedDict(builtins.dict)\n",
      " |  Dictionary that remembers insertion order\n",
      " |  \n",
      " |  Method resolution order:\n",
      " |      OrderedDict\n",
      " |      builtins.dict\n",
      " |      builtins.object\n",
      " |  \n",
      " |  Methods defined here:\n",
      " |  \n",
      " |  __delitem__(self, key, /)\n",
      " |      Delete self[key].\n",
      " |  \n",
      " |  __eq__(self, value, /)\n",
      " |      Return self==value.\n",
      " |  \n",
      " |  __ge__(self, value, /)\n",
      " |      Return self>=value.\n",
      " |  \n",
      " |  __gt__(self, value, /)\n",
      " |      Return self>value.\n",
      " |  \n",
      " |  __init__(self, /, *args, **kwargs)\n",
      " |      Initialize self.  See help(type(self)) for accurate signature.\n",
      " |  \n",
      " |  __ior__(self, value, /)\n",
      " |      Return self|=value.\n",
      " |  \n",
      " |  __iter__(self, /)\n",
      " |      Implement iter(self).\n",
      " |  \n",
      " |  __le__(self, value, /)\n",
      " |      Return self<=value.\n",
      " |  \n",
      " |  __lt__(self, value, /)\n",
      " |      Return self<value.\n",
      " |  \n",
      " |  __ne__(self, value, /)\n",
      " |      Return self!=value.\n",
      " |  \n",
      " |  __or__(self, value, /)\n",
      " |      Return self|value.\n",
      " |  \n",
      " |  __reduce__(...)\n",
      " |      Return state information for pickling\n",
      " |  \n",
      " |  __repr__(self, /)\n",
      " |      Return repr(self).\n",
      " |  \n",
      " |  __reversed__(...)\n",
      " |      od.__reversed__() <==> reversed(od)\n",
      " |  \n",
      " |  __ror__(self, value, /)\n",
      " |      Return value|self.\n",
      " |  \n",
      " |  __setitem__(self, key, value, /)\n",
      " |      Set self[key] to value.\n",
      " |  \n",
      " |  __sizeof__(...)\n",
      " |      D.__sizeof__() -> size of D in memory, in bytes\n",
      " |  \n",
      " |  clear(...)\n",
      " |      od.clear() -> None.  Remove all items from od.\n",
      " |  \n",
      " |  copy(...)\n",
      " |      od.copy() -> a shallow copy of od\n",
      " |  \n",
      " |  items(...)\n",
      " |      D.items() -> a set-like object providing a view on D's items\n",
      " |  \n",
      " |  keys(...)\n",
      " |      D.keys() -> a set-like object providing a view on D's keys\n",
      " |  \n",
      " |  move_to_end(self, /, key, last=True)\n",
      " |      Move an existing element to the end (or beginning if last is false).\n",
      " |      \n",
      " |      Raise KeyError if the element does not exist.\n",
      " |  \n",
      " |  pop(...)\n",
      " |      od.pop(key[,default]) -> v, remove specified key and return the corresponding value.\n",
      " |      \n",
      " |      If the key is not found, return the default if given; otherwise,\n",
      " |      raise a KeyError.\n",
      " |  \n",
      " |  popitem(self, /, last=True)\n",
      " |      Remove and return a (key, value) pair from the dictionary.\n",
      " |      \n",
      " |      Pairs are returned in LIFO order if last is true or FIFO order if false.\n",
      " |  \n",
      " |  setdefault(self, /, key, default=None)\n",
      " |      Insert key with a value of default if key is not in the dictionary.\n",
      " |      \n",
      " |      Return the value for key if key is in the dictionary, else default.\n",
      " |  \n",
      " |  update(...)\n",
      " |      D.update([E, ]**F) -> None.  Update D from dict/iterable E and F.\n",
      " |      If E is present and has a .keys() method, then does:  for k in E: D[k] = E[k]\n",
      " |      If E is present and lacks a .keys() method, then does:  for k, v in E: D[k] = v\n",
      " |      In either case, this is followed by: for k in F:  D[k] = F[k]\n",
      " |  \n",
      " |  values(...)\n",
      " |      D.values() -> an object providing a view on D's values\n",
      " |  \n",
      " |  ----------------------------------------------------------------------\n",
      " |  Class methods defined here:\n",
      " |  \n",
      " |  fromkeys(iterable, value=None) from builtins.type\n",
      " |      Create a new ordered dictionary with keys from iterable and values set to value.\n",
      " |  \n",
      " |  ----------------------------------------------------------------------\n",
      " |  Data descriptors defined here:\n",
      " |  \n",
      " |  __dict__\n",
      " |  \n",
      " |  ----------------------------------------------------------------------\n",
      " |  Data and other attributes defined here:\n",
      " |  \n",
      " |  __hash__ = None\n",
      " |  \n",
      " |  ----------------------------------------------------------------------\n",
      " |  Methods inherited from builtins.dict:\n",
      " |  \n",
      " |  __contains__(self, key, /)\n",
      " |      True if the dictionary has the specified key, else False.\n",
      " |  \n",
      " |  __getattribute__(self, name, /)\n",
      " |      Return getattr(self, name).\n",
      " |  \n",
      " |  __getitem__(...)\n",
      " |      x.__getitem__(y) <==> x[y]\n",
      " |  \n",
      " |  __len__(self, /)\n",
      " |      Return len(self).\n",
      " |  \n",
      " |  get(self, key, default=None, /)\n",
      " |      Return the value for key if key is in the dictionary, else default.\n",
      " |  \n",
      " |  ----------------------------------------------------------------------\n",
      " |  Class methods inherited from builtins.dict:\n",
      " |  \n",
      " |  __class_getitem__(...) from builtins.type\n",
      " |      See PEP 585\n",
      " |  \n",
      " |  ----------------------------------------------------------------------\n",
      " |  Static methods inherited from builtins.dict:\n",
      " |  \n",
      " |  __new__(*args, **kwargs) from builtins.type\n",
      " |      Create and return a new object.  See help(type) for accurate signature.\n",
      "\n"
     ]
    }
   ],
   "source": [
    "from collections import OrderedDict\n"
   ]
  },
  {
   "cell_type": "code",
   "execution_count": 26,
   "id": "34581e07",
   "metadata": {},
   "outputs": [],
   "source": [
    "from collections import ChainMap, deque, UserDict, UserList ,defaultdict"
   ]
  },
  {
   "cell_type": "code",
   "execution_count": 36,
   "id": "d48e6100",
   "metadata": {},
   "outputs": [
    {
     "name": "stdout",
     "output_type": "stream",
     "text": [
      "Dictionary with values as list:\n",
      "defaultdict(<class 'list'>, {0: [0], 1: [1], 2: [2], 3: [3], 4: [4]})\n"
     ]
    }
   ],
   "source": [
    "## defaultdict\n",
    "d = defaultdict(list) \n",
    "  \n",
    "for i in range(5): \n",
    "    d[i].append(i) \n",
    "      \n",
    "print(\"Dictionary with values as list:\") \n",
    "print(d)"
   ]
  },
  {
   "cell_type": "markdown",
   "id": "b5ba36a1",
   "metadata": {},
   "source": [
    "## ChainMap"
   ]
  },
  {
   "cell_type": "markdown",
   "id": "b20d65ef",
   "metadata": {},
   "source": [
    "\n",
    "- A ChainMap groups multiple dicts (or other mappings) together\n",
    " |  to create a single, updateable view."
   ]
  },
  {
   "cell_type": "code",
   "execution_count": 39,
   "id": "7d312458",
   "metadata": {},
   "outputs": [
    {
     "data": {
      "text/plain": [
       "ChainMap({'a': 1, 'b': 2}, {'c': 3, 'd': 4}, {'e': 5, 'f': 6})"
      ]
     },
     "execution_count": 39,
     "metadata": {},
     "output_type": "execute_result"
    }
   ],
   "source": [
    "d1 = {\"a\":1,\"b\":2}\n",
    "\n",
    "d2 = { \"c\":3,\"d\":4}\n",
    "\n",
    "d3 = {\"e\":5,\"f\":6}\n",
    "result = ChainMap(d1,d2,d3)\n",
    "result"
   ]
  },
  {
   "cell_type": "code",
   "execution_count": 45,
   "id": "fc3669b1",
   "metadata": {},
   "outputs": [
    {
     "name": "stdout",
     "output_type": "stream",
     "text": [
      "ItemsView(ChainMap({'a': 1, 'b': 2}, {'c': 3, 'd': 4}, {'e': 5, 'f': 6}))\n"
     ]
    }
   ],
   "source": [
    "print(result.items())"
   ]
  },
  {
   "cell_type": "code",
   "execution_count": 47,
   "id": "e0a73aae",
   "metadata": {},
   "outputs": [
    {
     "data": {
      "text/plain": [
       "6"
      ]
     },
     "execution_count": 47,
     "metadata": {},
     "output_type": "execute_result"
    }
   ],
   "source": [
    "result[\"f\"]"
   ]
  },
  {
   "cell_type": "code",
   "execution_count": 48,
   "id": "8adc4877",
   "metadata": {},
   "outputs": [
    {
     "data": {
      "text/plain": [
       "ChainMap({'g': 7}, {'a': 1, 'b': 2}, {'c': 3, 'd': 4}, {'e': 5, 'f': 6})"
      ]
     },
     "execution_count": 48,
     "metadata": {},
     "output_type": "execute_result"
    }
   ],
   "source": [
    "d4 = {\"g\":7}\n",
    "result1 = result.new_child(d4)\n",
    "result1"
   ]
  },
  {
   "cell_type": "markdown",
   "id": "e4b221e5",
   "metadata": {},
   "source": [
    "# named tuple"
   ]
  },
  {
   "cell_type": "code",
   "execution_count": 61,
   "id": "a808fbe1",
   "metadata": {},
   "outputs": [
    {
     "name": "stdout",
     "output_type": "stream",
     "text": [
      "10 12\n",
      "Point(x=10, y=12)\n"
     ]
    }
   ],
   "source": [
    "from collections import namedtuple\n",
    "graph = namedtuple('Point', ['x', 'y'])\n",
    "p = graph(10,12)\n",
    "print(p[0], p[1])\n",
    "print(p)"
   ]
  },
  {
   "cell_type": "code",
   "execution_count": 63,
   "id": "70c2e49c",
   "metadata": {},
   "outputs": [
    {
     "data": {
      "text/plain": [
       "deque(['name', 'age', 'job', 'salary', 'city'])"
      ]
     },
     "execution_count": 63,
     "metadata": {},
     "output_type": "execute_result"
    }
   ],
   "source": [
    "q = deque([\"name\", \"age\", \"job\", \"salary\", \"city\"])\n",
    "q"
   ]
  },
  {
   "cell_type": "markdown",
   "id": "c3055620",
   "metadata": {},
   "source": [
    " 'append',\n",
    " 'appendleft',\n",
    " 'clear',\n",
    " 'copy',\n",
    " 'count',\n",
    " 'extend',\n",
    " 'extendleft',\n",
    " 'index',\n",
    " 'insert',\n",
    " 'maxlen',\n",
    " 'pop',\n",
    " 'popleft',\n",
    " 'remove',\n",
    " 'reverse',\n",
    " 'rotate']"
   ]
  },
  {
   "cell_type": "code",
   "execution_count": 65,
   "id": "0e680b7b",
   "metadata": {},
   "outputs": [
    {
     "data": {
      "text/plain": [
       "deque(['name', 'age', 'job', 'salary', 'city', 'gender'])"
      ]
     },
     "execution_count": 65,
     "metadata": {},
     "output_type": "execute_result"
    }
   ],
   "source": [
    "q.append(\"gender\")\n",
    "q"
   ]
  },
  {
   "cell_type": "code",
   "execution_count": 67,
   "id": "fd7ec7e6",
   "metadata": {},
   "outputs": [
    {
     "data": {
      "text/plain": [
       "deque(['rno', 'rno', 'name', 'age', 'job', 'salary', 'city', 'gender'])"
      ]
     },
     "execution_count": 67,
     "metadata": {},
     "output_type": "execute_result"
    }
   ],
   "source": [
    "q.appendleft(\"rno\")\n",
    "q"
   ]
  },
  {
   "cell_type": "code",
   "execution_count": 68,
   "id": "683e4e16",
   "metadata": {},
   "outputs": [
    {
     "data": {
      "text/plain": [
       "deque(['rno', 'rno', 'name', 'age', 'job', 'salary', 'city'])"
      ]
     },
     "execution_count": 68,
     "metadata": {},
     "output_type": "execute_result"
    }
   ],
   "source": [
    "q.pop()\n",
    "q"
   ]
  },
  {
   "cell_type": "code",
   "execution_count": 69,
   "id": "5aef143e",
   "metadata": {},
   "outputs": [
    {
     "data": {
      "text/plain": [
       "deque(['rno', 'name', 'age', 'job', 'salary', 'city'])"
      ]
     },
     "execution_count": 69,
     "metadata": {},
     "output_type": "execute_result"
    }
   ],
   "source": [
    "q.popleft()\n",
    "q"
   ]
  },
  {
   "cell_type": "code",
   "execution_count": null,
   "id": "afe6d881",
   "metadata": {},
   "outputs": [],
   "source": []
  },
  {
   "cell_type": "code",
   "execution_count": null,
   "id": "2728d4c0",
   "metadata": {},
   "outputs": [],
   "source": []
  },
  {
   "cell_type": "code",
   "execution_count": null,
   "id": "052b2bda",
   "metadata": {},
   "outputs": [],
   "source": []
  },
  {
   "cell_type": "code",
   "execution_count": null,
   "id": "d9bc6b39",
   "metadata": {},
   "outputs": [],
   "source": []
  }
 ],
 "metadata": {
  "kernelspec": {
   "display_name": "Python 3 (ipykernel)",
   "language": "python",
   "name": "python3"
  },
  "language_info": {
   "codemirror_mode": {
    "name": "ipython",
    "version": 3
   },
   "file_extension": ".py",
   "mimetype": "text/x-python",
   "name": "python",
   "nbconvert_exporter": "python",
   "pygments_lexer": "ipython3",
   "version": "3.11.5"
  }
 },
 "nbformat": 4,
 "nbformat_minor": 5
}
