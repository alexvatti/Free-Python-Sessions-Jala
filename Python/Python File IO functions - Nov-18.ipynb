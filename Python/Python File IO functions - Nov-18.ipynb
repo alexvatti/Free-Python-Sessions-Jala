{
 "cells": [
  {
   "cell_type": "markdown",
   "id": "9ad8fa4e",
   "metadata": {},
   "source": [
    "# Name of the Mentor : Angel Mary \n",
    "# Date : 18-NOV-24\n",
    "# Time : 11:30 AM - 12:30 PM IST\n",
    "\n",
    "# Topic : Python (File I/O functions) \n"
   ]
  },
  {
   "cell_type": "markdown",
   "id": "83e31af3",
   "metadata": {},
   "source": [
    "# Topic : Python (File I/O functions) "
   ]
  },
  {
   "cell_type": "code",
   "execution_count": null,
   "id": "e26072aa",
   "metadata": {},
   "outputs": [],
   "source": [
    "Modes in open()\n",
    "'r': Read (default). File must exist.\n",
    "'w': Write. Creates a new file or overwrites the existing one.\n",
    "'a': Append. Adds data at the end of the file.\n",
    "'r+': Read and write. File must exist.\n",
    "'w+': Write and read. Overwrites the file.\n",
    "'a+': Append and read. Adds data at the end."
   ]
  },
  {
   "cell_type": "markdown",
   "id": "8e365e76",
   "metadata": {},
   "source": [
    "# Write into file"
   ]
  },
  {
   "cell_type": "code",
   "execution_count": 21,
   "id": "7b5be07e",
   "metadata": {},
   "outputs": [],
   "source": [
    "file = open('example.txt', 'w')  # Open file in write mode\n",
    "file.write('Hello, JALA ACADEMY!')\n",
    "file.close()"
   ]
  },
  {
   "cell_type": "markdown",
   "id": "228eb032",
   "metadata": {},
   "source": [
    "# Reads the entire content of the file."
   ]
  },
  {
   "cell_type": "code",
   "execution_count": 7,
   "id": "e53e00dc",
   "metadata": {},
   "outputs": [
    {
     "name": "stdout",
     "output_type": "stream",
     "text": [
      "Hello, JALA ACADEMY!\n"
     ]
    }
   ],
   "source": [
    "file = open('example.txt', 'r')  # Open file in write mode\n",
    "content = file.read()\n",
    "print(content)\n",
    "file.close()"
   ]
  },
  {
   "cell_type": "markdown",
   "id": "9ef2ee7d",
   "metadata": {},
   "source": [
    "# Reads one line at a time"
   ]
  },
  {
   "cell_type": "code",
   "execution_count": 8,
   "id": "51bb4ec0",
   "metadata": {},
   "outputs": [
    {
     "name": "stdout",
     "output_type": "stream",
     "text": [
      "Hello, JALA ACADEMY!\n"
     ]
    }
   ],
   "source": [
    "file = open('example.txt', 'r')  # Open file in read mode\n",
    "\n",
    "while True:\n",
    "    line = file.readline()  # Read a line\n",
    "    if not line:  # Break the loop if end of file is reached\n",
    "        break\n",
    "    print(line.strip())  # Print the line (remove trailing newline)\n",
    "\n",
    "file.close()  # Close the file\n"
   ]
  },
  {
   "cell_type": "code",
   "execution_count": 11,
   "id": "af8577ec",
   "metadata": {},
   "outputs": [
    {
     "name": "stdout",
     "output_type": "stream",
     "text": [
      "['Hello, JALA ACADEMY!']\n"
     ]
    }
   ],
   "source": [
    "file = open('example.txt', 'r')  # Open file in read mode\n",
    "lines = file.readlines()  # Read a line\n",
    "print(lines)\n",
    "file.close()"
   ]
  },
  {
   "cell_type": "code",
   "execution_count": 13,
   "id": "0573d776",
   "metadata": {},
   "outputs": [
    {
     "name": "stdout",
     "output_type": "stream",
     "text": [
      "Hello\n"
     ]
    }
   ],
   "source": [
    "file = open('example.txt', 'r')  # Open file in write mode\n",
    "content = file.read(5) # number chars\n",
    "print(content)\n",
    "file.close()"
   ]
  },
  {
   "cell_type": "code",
   "execution_count": 14,
   "id": "86454024",
   "metadata": {},
   "outputs": [],
   "source": [
    "l  = [\"Hello\", \"Good\", \"JALA\"]\n",
    "file = open('example.txt', 'w')  # Open file in write mode\n",
    "for line in l:\n",
    "    file.write(line)\n",
    "file.close()"
   ]
  },
  {
   "cell_type": "code",
   "execution_count": 15,
   "id": "c1f33fd2",
   "metadata": {},
   "outputs": [
    {
     "name": "stdout",
     "output_type": "stream",
     "text": [
      "['HelloGoodJALA']\n"
     ]
    }
   ],
   "source": [
    "file = open('example.txt', 'r')  # Open file in read mode\n",
    "lines = file.readlines()  # Read a line\n",
    "print(lines)\n",
    "file.close()"
   ]
  },
  {
   "cell_type": "code",
   "execution_count": 16,
   "id": "1b26e358",
   "metadata": {},
   "outputs": [],
   "source": [
    "import os"
   ]
  },
  {
   "cell_type": "code",
   "execution_count": 17,
   "id": "03cb4f09",
   "metadata": {
    "scrolled": false
   },
   "outputs": [
    {
     "data": {
      "text/plain": [
       "['.ipynb_checkpoints',\n",
       " 'example.txt',\n",
       " 'JALA-PYTHON-ASSIGNMENT.ipynb',\n",
       " 'Python (Inheritence ).ipynb',\n",
       " 'Python File IO functions.ipynb',\n",
       " 'Untitled.ipynb',\n",
       " 'Untitled1.ipynb']"
      ]
     },
     "execution_count": 17,
     "metadata": {},
     "output_type": "execute_result"
    }
   ],
   "source": [
    "os.listdir()"
   ]
  },
  {
   "cell_type": "code",
   "execution_count": 19,
   "id": "319bb8ff",
   "metadata": {},
   "outputs": [],
   "source": [
    "os.remove('example.txt')"
   ]
  },
  {
   "cell_type": "code",
   "execution_count": 20,
   "id": "29d73c40",
   "metadata": {
    "scrolled": false
   },
   "outputs": [
    {
     "data": {
      "text/plain": [
       "['.ipynb_checkpoints',\n",
       " 'JALA-PYTHON-ASSIGNMENT.ipynb',\n",
       " 'Python (Inheritence ).ipynb',\n",
       " 'Python File IO functions.ipynb',\n",
       " 'Untitled.ipynb',\n",
       " 'Untitled1.ipynb']"
      ]
     },
     "execution_count": 20,
     "metadata": {},
     "output_type": "execute_result"
    }
   ],
   "source": [
    "os.listdir()"
   ]
  },
  {
   "cell_type": "code",
   "execution_count": 22,
   "id": "705f818a",
   "metadata": {
    "scrolled": true
   },
   "outputs": [
    {
     "data": {
      "text/plain": [
       "['.ipynb_checkpoints',\n",
       " 'example.txt',\n",
       " 'JALA-PYTHON-ASSIGNMENT.ipynb',\n",
       " 'Python (Inheritence ).ipynb',\n",
       " 'Python File IO functions.ipynb',\n",
       " 'Untitled.ipynb',\n",
       " 'Untitled1.ipynb']"
      ]
     },
     "execution_count": 22,
     "metadata": {},
     "output_type": "execute_result"
    }
   ],
   "source": [
    "os.listdir()"
   ]
  },
  {
   "cell_type": "code",
   "execution_count": 23,
   "id": "6de1ae5a",
   "metadata": {},
   "outputs": [],
   "source": [
    "os.rename(src=\"example.txt\", dst=\"python-class.txt\")"
   ]
  },
  {
   "cell_type": "code",
   "execution_count": 24,
   "id": "9485bc14",
   "metadata": {
    "scrolled": false
   },
   "outputs": [
    {
     "data": {
      "text/plain": [
       "['.ipynb_checkpoints',\n",
       " 'JALA-PYTHON-ASSIGNMENT.ipynb',\n",
       " 'Python (Inheritence ).ipynb',\n",
       " 'Python File IO functions.ipynb',\n",
       " 'python-class.txt',\n",
       " 'Untitled.ipynb',\n",
       " 'Untitled1.ipynb']"
      ]
     },
     "execution_count": 24,
     "metadata": {},
     "output_type": "execute_result"
    }
   ],
   "source": [
    "os.listdir()"
   ]
  },
  {
   "cell_type": "code",
   "execution_count": null,
   "id": "9a625803",
   "metadata": {},
   "outputs": [],
   "source": [
    "dir(os)\n",
    "os.listdir()\n",
    "os.remove()\n",
    "os.rename()\n",
    "os.curdir()\n",
    "os.chdir(path) # change dir"
   ]
  },
  {
   "cell_type": "code",
   "execution_count": null,
   "id": "7651fa1e",
   "metadata": {},
   "outputs": [],
   "source": [
    "OneDrive/INTERVIEW-PREPARATION/JALA"
   ]
  },
  {
   "attachments": {
    "image.png": {
     "image/png": "[encoded data removed]"
    }
   },
   "cell_type": "markdown",
   "id": "af0c1382",
   "metadata": {},
   "source": [
    "![image.png](attachment:image.png)"
   ]
  },
  {
   "cell_type": "code",
   "execution_count": 26,
   "id": "9fc94c40",
   "metadata": {},
   "outputs": [
    {
     "data": {
      "text/plain": [
       "'C:\\\\Users\\\\91956\\\\OneDrive\\\\INTERVIEW-PREPARATION\\\\JALA'"
      ]
     },
     "execution_count": 26,
     "metadata": {},
     "output_type": "execute_result"
    }
   ],
   "source": [
    "os.getcwd()"
   ]
  }
 ],
 "metadata": {
  "kernelspec": {
   "display_name": "Python 3 (ipykernel)",
   "language": "python",
   "name": "python3"
  },
  "language_info": {
   "codemirror_mode": {
    "name": "ipython",
    "version": 3
   },
   "file_extension": ".py",
   "mimetype": "text/x-python",
   "name": "python",
   "nbconvert_exporter": "python",
   "pygments_lexer": "ipython3",
   "version": "3.11.5"
  }
 },
 "nbformat": 4,
 "nbformat_minor": 5
}
