{
 "cells": [
  {
   "cell_type": "markdown",
   "id": "b9f444f0",
   "metadata": {},
   "source": [
    "# Name of the Mentor : Angel Mary \n",
    "# Date : 05-NOV-24\n",
    "# Time : 7:30 PM- 8:30 PM IST\n",
    "\n",
    "# Topic : Python (Oops concept)"
   ]
  },
  {
   "cell_type": "markdown",
   "id": "a228b330",
   "metadata": {},
   "source": [
    "# Oops\n",
    "\n",
    "1. Class & Object"
   ]
  },
  {
   "cell_type": "markdown",
   "id": "30b7efb6",
   "metadata": {},
   "source": [
    "1. Object Oriented Programming Language\n",
    "2. Object design - organize the code\n",
    "3. These Object - represent real world scenarios\n",
    "4. Is combination of data/attributes and methods/functions"
   ]
  },
  {
   "cell_type": "markdown",
   "id": "904eb776",
   "metadata": {},
   "source": [
    "## class\n",
    "1. It is prototype\n",
    "2. It is blue print\n",
    "3. It define set of data/attributes/varaibles\n",
    "4. it define set of methods/functions\n",
    "5. Objects(as many as) can be created using class name"
   ]
  },
  {
   "cell_type": "markdown",
   "id": "df36bdae",
   "metadata": {},
   "source": [
    "# Python (Oops concept) \n",
    "\n",
    "# Object Oriented Programing \n",
    "\n",
    "1. Classes and Objects\n",
    "2. Encapsulation\n",
    "3. Inheritance\n",
    "4. Polymorphism\n",
    "5. Abstraction"
   ]
  },
  {
   "cell_type": "markdown",
   "id": "3f89d58b",
   "metadata": {},
   "source": [
    "# Data Abstraction / Encapsulation\n",
    "\n",
    "- Hide the Non Essential things (members , Method) to world\n",
    "- Single Unit  (wheel , steering, body) -- altogether - Car\n",
    "- Capulse - Binding all together\n",
    "- Encapsulation = Abstraction + Hide the Data\n"
   ]
  },
  {
   "cell_type": "code",
   "execution_count": 1,
   "id": "e439ae3c",
   "metadata": {},
   "outputs": [],
   "source": [
    "class student:\n",
    "    pass\n",
    "class marks(student):\n",
    "    pass"
   ]
  },
  {
   "cell_type": "code",
   "execution_count": 2,
   "id": "70ebe89d",
   "metadata": {},
   "outputs": [],
   "source": [
    "class animal:\n",
    "    pass\n",
    "\n",
    "class animal():\n",
    "    pass"
   ]
  },
  {
   "cell_type": "code",
   "execution_count": 3,
   "id": "103bdeca",
   "metadata": {},
   "outputs": [
    {
     "name": "stdout",
     "output_type": "stream",
     "text": [
      "<class 'type'>\n"
     ]
    }
   ],
   "source": [
    "class student:\n",
    "    pass\n",
    "print(type(student))"
   ]
  },
  {
   "cell_type": "code",
   "execution_count": 4,
   "id": "a9a9344e",
   "metadata": {
    "scrolled": true
   },
   "outputs": [
    {
     "name": "stdout",
     "output_type": "stream",
     "text": [
      "Amar\n",
      "Amar\n"
     ]
    }
   ],
   "source": [
    "class student:\n",
    "    def __init__(self,name):\n",
    "        self.name = name\n",
    "    def print_name(self):\n",
    "        print(self.name)\n",
    "        \n",
    "s = student(\"Amar\")\n",
    "print(s.name)\n",
    "s.print_name()"
   ]
  },
  {
   "cell_type": "code",
   "execution_count": 5,
   "id": "86dc415e",
   "metadata": {},
   "outputs": [
    {
     "name": "stdout",
     "output_type": "stream",
     "text": [
      "Amar\n",
      "Amar\n"
     ]
    }
   ],
   "source": [
    "class stud:\n",
    "    name = \"Amar\"\n",
    "    def print_name(self):\n",
    "        print(self.name)\n",
    "        \n",
    "s = stud()\n",
    "print(stud.name)\n",
    "s.print_name()"
   ]
  },
  {
   "cell_type": "code",
   "execution_count": 6,
   "id": "76ebd959",
   "metadata": {},
   "outputs": [
    {
     "name": "stdout",
     "output_type": "stream",
     "text": [
      "Maruthi\n",
      "VW\n",
      "BWM\n"
     ]
    }
   ],
   "source": [
    "class cars:\n",
    "    def __init__(self,name):\n",
    "        self.name=name\n",
    "    def print_name(self):\n",
    "        print(self.name)\n",
    "\n",
    "maruthi = cars(\"Maruthi\")\n",
    "vw = cars(\"VW\")\n",
    "bwm = cars(\"BWM\")\n",
    "\n",
    "maruthi.print_name()\n",
    "vw.print_name()\n",
    "bwm.print_name()"
   ]
  },
  {
   "cell_type": "code",
   "execution_count": 7,
   "id": "4ef1eddf",
   "metadata": {},
   "outputs": [
    {
     "name": "stdout",
     "output_type": "stream",
     "text": [
      "Name: Mary\n",
      "Age: 20\n",
      "Hello, my name is Mary, I am 20 years old, and my student ID is S12345.\n"
     ]
    }
   ],
   "source": [
    "class Student: # class student\n",
    "    def __init__(self, name, age, student_id): # constructer - runs once # initialize - special function\n",
    "        self.name = name       # name\n",
    "        self.age = age         # age\n",
    "        self.student_id = student_id # id \n",
    "\n",
    "    \n",
    "    def introduce(self):   # method /function   \n",
    "        print(f\"Hello, my name is {self.name}, I am {self.age} years old, and my student ID is {self.student_id}.\")\n",
    "        \n",
    "# Creating an object (instance) of the Student class\n",
    "student1 = Student(\"Mary\", 20, \"S12345\")\n",
    "\n",
    "# Accessing attributes and methods\n",
    "print(\"Name:\", student1.name)           \n",
    "print(\"Age:\" ,student1.age) \n",
    "\n",
    "student1.introduce() "
   ]
  },
  {
   "cell_type": "code",
   "execution_count": 8,
   "id": "69bc45a2",
   "metadata": {},
   "outputs": [
    {
     "name": "stdout",
     "output_type": "stream",
     "text": [
      "Enter the Name:alex\n",
      "Enter Roll Number:102\n",
      "Enter Marks in M1: 10\n",
      "Enter Marks in M2: 20\n",
      "Enter Marks in M3: 30\n",
      "Student total marks: 60\n",
      "Student avg marks: 20.0\n"
     ]
    }
   ],
   "source": [
    "class student:\n",
    "    def __init__(self):\n",
    "        self.name = input(\"Enter the Name:\")\n",
    "        self.rollno =int(input(\"Enter Roll Number:\"))\n",
    "        self.m1 = int(input(\"Enter Marks in M1: \"))\n",
    "        self.m2 = int(input(\"Enter Marks in M2: \"))\n",
    "        self.m3 = int(input(\"Enter Marks in M3: \"))\n",
    "        \n",
    "class statement(student):\n",
    "    def display(self):\n",
    "        self.total = self.m1 + self.m2 + self.m3\n",
    "        self.avg = round(self.total/3,2)\n",
    "        print(\"Student total marks:\",self.total)\n",
    "        print(\"Student avg marks:\",self.avg)\n",
    "        \n",
    "s = statement()  \n",
    "s.display()"
   ]
  },
  {
   "cell_type": "code",
   "execution_count": 9,
   "id": "1a17ab17",
   "metadata": {},
   "outputs": [
    {
     "name": "stdout",
     "output_type": "stream",
     "text": [
      "Brand: Maruthi\n",
      "Model: Swift\n",
      "Year: 2023\n",
      "Color: Red\n",
      "Fuel Type: Petrol \n",
      "Brand: Hyundai\n",
      "Model: i20\n",
      "Year: 2020\n",
      "Color: Gray\n",
      "Fuel Type: Petrol \n"
     ]
    }
   ],
   "source": [
    "# Base class for cars\n",
    "class Cars:\n",
    "    def __init__(self, brand, model, year, color):\n",
    "        self.brand = brand\n",
    "        self.model = model\n",
    "        self.year = year\n",
    "        self.color = color\n",
    "    \n",
    "    def display_info(self):\n",
    "        print(f\"Brand: {self.brand}\")\n",
    "        print(f\"Model: {self.model}\")\n",
    "        print(f\"Year: {self.year}\")\n",
    "        print(f\"Color: {self.color}\")\n",
    "\n",
    "# Subclass for a specific car \n",
    "class type_car(Cars):\n",
    "    def __init__(self, company, model, year, color, fuel_type):\n",
    "        # Calling the initializer of the base class\n",
    "        super().__init__(company, model, year, color)\n",
    "        self.fuel_type = fuel_type\n",
    "\n",
    "    def display_maruti_info(self):\n",
    "        self.display_info()\n",
    "        print(f\"Fuel Type: {self.fuel_type} \")\n",
    "\n",
    "# Example usage\n",
    "maruti_car = type_car(\"Maruthi\", \"Swift\", 2023, \"Red\", \"Petrol\")\n",
    "maruti_car.display_maruti_info()\n",
    "\n",
    "hyundai_car = type_car(\"Hyundai\", \"i20\", 2020, \"Gray\", \"Petrol\")\n",
    "hyundai_car.display_maruti_info()\n"
   ]
  },
  {
   "cell_type": "code",
   "execution_count": null,
   "id": "5b7ba379",
   "metadata": {},
   "outputs": [],
   "source": []
  }
 ],
 "metadata": {
  "kernelspec": {
   "display_name": "Python 3 (ipykernel)",
   "language": "python",
   "name": "python3"
  },
  "language_info": {
   "codemirror_mode": {
    "name": "ipython",
    "version": 3
   },
   "file_extension": ".py",
   "mimetype": "text/x-python",
   "name": "python",
   "nbconvert_exporter": "python",
   "pygments_lexer": "ipython3",
   "version": "3.11.5"
  }
 },
 "nbformat": 4,
 "nbformat_minor": 5
}
