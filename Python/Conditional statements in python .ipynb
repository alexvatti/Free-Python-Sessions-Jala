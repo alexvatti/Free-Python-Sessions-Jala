{
 "cells": [
  {
   "cell_type": "markdown",
   "id": "c4b1655c",
   "metadata": {},
   "source": [
    "- conditional statements in python "
   ]
  },
  {
   "cell_type": "code",
   "execution_count": 1,
   "id": "f6045994",
   "metadata": {},
   "outputs": [
    {
     "name": "stdout",
     "output_type": "stream",
     "text": [
      "10 is even\n"
     ]
    }
   ],
   "source": [
    "num = 10\n",
    "if num%2 == 0:\n",
    "    print(f\"{num} is even\")\n",
    "else:\n",
    "    print(f\"{num} is not even , is odd\")"
   ]
  },
  {
   "cell_type": "code",
   "execution_count": 2,
   "id": "4c3ea2f3",
   "metadata": {},
   "outputs": [
    {
     "name": "stdout",
     "output_type": "stream",
     "text": [
      "Adult\n"
     ]
    }
   ],
   "source": [
    "age = 20\n",
    "if age > 18:\n",
    "    print(\"Adult\")\n",
    "else:\n",
    "    print(\"Not a adult\")"
   ]
  },
  {
   "cell_type": "code",
   "execution_count": null,
   "id": "3e2cb0cb",
   "metadata": {},
   "outputs": [],
   "source": [
    "if <condition> :\n",
    "    < true - condition body>\n",
    "elif <condition>:\n",
    "    < else if -condition body>\n",
    "else:\n",
    "    < body>\n",
    "    "
   ]
  },
  {
   "cell_type": "code",
   "execution_count": 3,
   "id": "8284016d",
   "metadata": {},
   "outputs": [
    {
     "name": "stdout",
     "output_type": "stream",
     "text": [
      "6 is largest\n"
     ]
    }
   ],
   "source": [
    "a = 5\n",
    "b = 6\n",
    "if a > b:\n",
    "    print(f\"{a} is largest\")\n",
    "else:\n",
    "    print(f\"{b} is largest\")"
   ]
  },
  {
   "cell_type": "code",
   "execution_count": 5,
   "id": "b40aeaa6",
   "metadata": {},
   "outputs": [
    {
     "name": "stdout",
     "output_type": "stream",
     "text": [
      "Grade: B\n"
     ]
    }
   ],
   "source": [
    "score = 82\n",
    "\n",
    "if score >= 90:\n",
    "    print(\"Grade: A\")\n",
    "elif score >= 80:\n",
    "    if score >= 85:\n",
    "        print(\"Grade: B+\")\n",
    "    else:\n",
    "        print(\"Grade: B\")\n",
    "elif score >= 70:\n",
    "    print(\"Grade: C\")\n",
    "else:\n",
    "    print(\"Grade: F\")"
   ]
  },
  {
   "cell_type": "code",
   "execution_count": null,
   "id": "d7b71dd4",
   "metadata": {},
   "outputs": [],
   "source": []
  }
 ],
 "metadata": {
  "kernelspec": {
   "display_name": "Python 3 (ipykernel)",
   "language": "python",
   "name": "python3"
  },
  "language_info": {
   "codemirror_mode": {
    "name": "ipython",
    "version": 3
   },
   "file_extension": ".py",
   "mimetype": "text/x-python",
   "name": "python",
   "nbconvert_exporter": "python",
   "pygments_lexer": "ipython3",
   "version": "3.11.5"
  }
 },
 "nbformat": 4,
 "nbformat_minor": 5
}
