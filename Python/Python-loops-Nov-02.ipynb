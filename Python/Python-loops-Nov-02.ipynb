{
 "cells": [
  {
   "cell_type": "markdown",
   "id": "d9c08bc9",
   "metadata": {},
   "source": [
    "# Name of the Mentor : Angel Mary \n",
    "# Date : 02-NOV-24\n",
    "# Time : 7:30 PM- 8:30 PM IST\n",
    "\n",
    "# Topic : Python (Functions)"
   ]
  },
  {
   "cell_type": "markdown",
   "id": "552d5a6f",
   "metadata": {},
   "source": [
    "# Python(Loops)\n",
    "- for (based on seq)\n",
    "- while (based on condition)\n",
    "- Both will have else condition - will executed - if the condition fails"
   ]
  },
  {
   "cell_type": "code",
   "execution_count": 12,
   "id": "ff9eb3e3",
   "metadata": {},
   "outputs": [
    {
     "name": "stdout",
     "output_type": "stream",
     "text": [
      "1,2,3,4,5,6,7,8,9,"
     ]
    }
   ],
   "source": [
    "# for loop\n",
    "for i in range(1,10):\n",
    "    print(i,sep=\",\", end=\",\")"
   ]
  },
  {
   "cell_type": "code",
   "execution_count": 13,
   "id": "2c1b0bc2",
   "metadata": {},
   "outputs": [
    {
     "name": "stdout",
     "output_type": "stream",
     "text": [
      "1,2,3,4,5,6,7,8,9,10,"
     ]
    }
   ],
   "source": [
    "l = [1,2,3,4,5,6,7,8,9,10]\n",
    "for i in l:\n",
    "    print(i,end=\",\")"
   ]
  },
  {
   "cell_type": "code",
   "execution_count": 14,
   "id": "5d0595e4",
   "metadata": {},
   "outputs": [
    {
     "name": "stdout",
     "output_type": "stream",
     "text": [
      "hello world"
     ]
    }
   ],
   "source": [
    "txt=\"hello world\"\n",
    "for ch in txt:\n",
    "    print(ch,end=\"\")"
   ]
  },
  {
   "cell_type": "code",
   "execution_count": 15,
   "id": "15a8f9ef",
   "metadata": {},
   "outputs": [
    {
     "name": "stdout",
     "output_type": "stream",
     "text": [
      "1 2 3 4 5 6 7 8 "
     ]
    }
   ],
   "source": [
    "t=(1,2,3,4,5,6,7,8)\n",
    "for x in t:\n",
    "    print(x,end=\" \")"
   ]
  },
  {
   "cell_type": "code",
   "execution_count": 17,
   "id": "fc983cc6",
   "metadata": {},
   "outputs": [
    {
     "name": "stdout",
     "output_type": "stream",
     "text": [
      "naveen Python\n",
      "Kumar Java\n",
      "Sunil C\n"
     ]
    }
   ],
   "source": [
    "d = {\"naveen\":\"Python\" , \"Kumar\":\"Java\", \"Sunil\":\"C\"}\n",
    "for key,value in d.items():\n",
    "    print(key,value)"
   ]
  },
  {
   "cell_type": "code",
   "execution_count": 18,
   "id": "cbcfabf2",
   "metadata": {},
   "outputs": [
    {
     "name": "stdout",
     "output_type": "stream",
     "text": [
      "6\n"
     ]
    }
   ],
   "source": [
    "# While loop\n",
    "# find the sum of digits of numbers\n",
    "\n",
    "n = 123\n",
    "s=0\n",
    "while(n!=0):\n",
    "    s+=n%10\n",
    "    n=n//10\n",
    "print(s)"
   ]
  },
  {
   "cell_type": "code",
   "execution_count": 19,
   "id": "515b6b55",
   "metadata": {},
   "outputs": [
    {
     "name": "stdout",
     "output_type": "stream",
     "text": [
      "321\n"
     ]
    }
   ],
   "source": [
    "# reverse of the given no\n",
    "n = 123\n",
    "s=0\n",
    "while(n!=0):\n",
    "    s= s* 10 +n%10\n",
    "    n=n//10\n",
    "print(s)"
   ]
  },
  {
   "cell_type": "code",
   "execution_count": 21,
   "id": "86273367",
   "metadata": {},
   "outputs": [
    {
     "name": "stdout",
     "output_type": "stream",
     "text": [
      "7450\n"
     ]
    }
   ],
   "source": [
    "# find the sum of even numbers between two numbers 100 to 200\n",
    "\n",
    "initial = 100\n",
    "final = 200\n",
    "even_sum = 0\n",
    "while initial < final:\n",
    "    if initial%2 == 0:\n",
    "        even_sum += initial\n",
    "    initial+=1\n",
    "print(even_sum)  "
   ]
  },
  {
   "cell_type": "code",
   "execution_count": 23,
   "id": "ce8a0a99",
   "metadata": {},
   "outputs": [
    {
     "name": "stdout",
     "output_type": "stream",
     "text": [
      "[2, 3, 5, 7, 11, 13, 17, 19, 23, 29, 31, 37, 41, 43, 47, 53, 59, 61, 67, 71, 73, 79, 83, 89, 97]\n"
     ]
    }
   ],
   "source": [
    "# Write a function find_primes(n) that uses a loop to print all prime numbers up to n\n",
    "def check_prime(num):\n",
    "    '''check prime num or not'''\n",
    "    flag=True\n",
    "    for j in range(2,num):\n",
    "        if num%j==0:\n",
    "            return False\n",
    "    return flag\n",
    "\n",
    "def find_primes(n):\n",
    "    l = []\n",
    "    for i in range(2,n):\n",
    "        if check_prime(i):\n",
    "            l.append(i)\n",
    "    print(l)\n",
    "find_primes(100)"
   ]
  },
  {
   "cell_type": "code",
   "execution_count": 24,
   "id": "ea12cee0",
   "metadata": {},
   "outputs": [
    {
     "name": "stdout",
     "output_type": "stream",
     "text": [
      "[[1, 2, 3], [4, 5, 6], [7, 8, 9]]\n"
     ]
    }
   ],
   "source": [
    "# Matrix Transpose Without Using Built-in Functions\n",
    "matrix = [\n",
    "    [1, 2, 3],\n",
    "    [4, 5, 6],\n",
    "    [7, 8, 9]\n",
    "]\n",
    "print(matrix)\n"
   ]
  },
  {
   "cell_type": "code",
   "execution_count": 26,
   "id": "e60856fc",
   "metadata": {},
   "outputs": [
    {
     "name": "stdout",
     "output_type": "stream",
     "text": [
      "olleH dlroW\n"
     ]
    }
   ],
   "source": [
    "def reverse_words(txt):\n",
    "    l = []\n",
    "    for word in txt.split():\n",
    "        l.append(word[::-1])\n",
    "    print(\" \".join(l))\n",
    "reverse_words(\"Hello World\")"
   ]
  },
  {
   "cell_type": "code",
   "execution_count": 27,
   "id": "3382d55a",
   "metadata": {},
   "outputs": [
    {
     "data": {
      "text/plain": [
       "{'a': 1, 'p': 2, 'l': 1, 'e': 1}"
      ]
     },
     "execution_count": 27,
     "metadata": {},
     "output_type": "execute_result"
    }
   ],
   "source": [
    "# count_unique_chars(\"apple\")\n",
    "txt=\"apple\"\n",
    "l = { key: txt.count(key) for key in txt }\n",
    "l"
   ]
  },
  {
   "cell_type": "code",
   "execution_count": 29,
   "id": "b1efb9da",
   "metadata": {
    "scrolled": true
   },
   "outputs": [
    {
     "name": "stdout",
     "output_type": "stream",
     "text": [
      "1 2 3 4 5 \n",
      "2 4 6 8 10 \n",
      "3 6 9 12 15 \n",
      "4 8 12 16 20 \n",
      "5 10 15 20 25 \n"
     ]
    }
   ],
   "source": [
    "# multiplication_table(5)\n",
    "# Output:\n",
    "# 1 2 3 4 5\n",
    "# 2 4 6 8 10\n",
    "# 3 6 9 12 15\n",
    "# 4 8 12 16 20\n",
    "# 5 10 15 20 25\n",
    "\n",
    "def multiplication_table(n):\n",
    "    for i in range(1,n+1):\n",
    "        for j in range(1,6):\n",
    "            print(i*j , end=\" \")\n",
    "        print()\n",
    "\n",
    "multiplication_table(5)"
   ]
  },
  {
   "cell_type": "code",
   "execution_count": null,
   "id": "0603034b",
   "metadata": {},
   "outputs": [],
   "source": []
  }
 ],
 "metadata": {
  "kernelspec": {
   "display_name": "Python 3 (ipykernel)",
   "language": "python",
   "name": "python3"
  },
  "language_info": {
   "codemirror_mode": {
    "name": "ipython",
    "version": 3
   },
   "file_extension": ".py",
   "mimetype": "text/x-python",
   "name": "python",
   "nbconvert_exporter": "python",
   "pygments_lexer": "ipython3",
   "version": "3.11.5"
  }
 },
 "nbformat": 4,
 "nbformat_minor": 5
}
