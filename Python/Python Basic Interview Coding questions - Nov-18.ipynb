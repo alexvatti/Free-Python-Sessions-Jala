{
 "cells": [
  {
   "cell_type": "markdown",
   "id": "13860485",
   "metadata": {},
   "source": [
    "# Name of the Mentor : Angel Mary \n",
    "# Date : 18-NOV-24\n",
    "# Time : 12:30 PM - 1:30PM IST(Extra Hour)\n",
    "\n",
    "# Topic : Python (Basic Interview Coding questions) "
   ]
  },
  {
   "cell_type": "markdown",
   "id": "eedeca38",
   "metadata": {},
   "source": [
    "# Python Basic Interview Coding questions - Nov 18\n",
    "\n",
    "# 5 Questions (list , string , dict , set ,tuple)"
   ]
  },
  {
   "cell_type": "markdown",
   "id": "68b8b990",
   "metadata": {},
   "source": [
    "# Q - WAP - Common elements in two lists"
   ]
  },
  {
   "cell_type": "code",
   "execution_count": 2,
   "id": "b34e2ee5",
   "metadata": {},
   "outputs": [
    {
     "name": "stdout",
     "output_type": "stream",
     "text": [
      "['house', 'study', 'trip']\n"
     ]
    }
   ],
   "source": [
    "l1 = ['car', 'house', 'emi', 'study' , 'trip' ]\n",
    "l2 = [ 'study', 'house', 'trip']\n",
    "\n",
    "def common_between_lists(l1,l2):\n",
    "    '''common elements in given two lists'''\n",
    "    common_elements = []\n",
    "    \n",
    "    for ele in l1:\n",
    "        if ele in l2:\n",
    "            common_elements.append(ele)\n",
    "    \n",
    "    return common_elements\n",
    "    \n",
    "    \n",
    "print(common_between_lists(l1,l2))\n"
   ]
  },
  {
   "cell_type": "code",
   "execution_count": 3,
   "id": "47598c51",
   "metadata": {},
   "outputs": [
    {
     "name": "stdout",
     "output_type": "stream",
     "text": [
      "[3, 4, 5]\n"
     ]
    }
   ],
   "source": [
    "a=[1,2,3,4,5]\n",
    "b=[3,4,5,6,7]\n",
    "print([i for i in a if i in b]) # 3 4 5"
   ]
  },
  {
   "cell_type": "markdown",
   "id": "9416c90c",
   "metadata": {},
   "source": [
    "# Q 2  count  frequency of words of given list"
   ]
  },
  {
   "cell_type": "code",
   "execution_count": 9,
   "id": "d3d960d9",
   "metadata": {},
   "outputs": [
    {
     "name": "stdout",
     "output_type": "stream",
     "text": [
      "{'hello': 3, 'world': 2, 'hi': 1}\n"
     ]
    }
   ],
   "source": [
    "l = [\"hello\", \"world\", \"hello\", \"hi\", \"world\" , \"hello\"]\n",
    "\n",
    "def count_frequency_words(l):\n",
    "    '''count the frequency of words of list'''\n",
    "    count_dict = {} # ele: count of occurance  - frequency (key:value)\n",
    "    \n",
    "    for ele in l:\n",
    "        if ele not in count_dict.keys():\n",
    "            count_dict[ele] = 1\n",
    "        else:\n",
    "            count_dict[ele] += 1\n",
    "            \n",
    "    return count_dict\n",
    "\n",
    "print(count_frequency_words(l))"
   ]
  },
  {
   "cell_type": "code",
   "execution_count": 8,
   "id": "0482fe80",
   "metadata": {},
   "outputs": [
    {
     "data": {
      "text/plain": [
       "{'hello': 2, 'world': 2, 'hi': 1}"
      ]
     },
     "execution_count": 8,
     "metadata": {},
     "output_type": "execute_result"
    }
   ],
   "source": [
    "d = { word:l.count(word) for word in l}\n",
    "d"
   ]
  },
  {
   "cell_type": "markdown",
   "id": "fac345d1",
   "metadata": {},
   "source": [
    "# Q 3 - WAP - To find largest ele in the given list"
   ]
  },
  {
   "cell_type": "code",
   "execution_count": null,
   "id": "08d3970a",
   "metadata": {},
   "outputs": [],
   "source": [
    "-- Please solve the Code -- Pls get idea/hint\n",
    "\n",
    "l = [1,5,55,6,8,9,10,11,14,17,19,22]\n",
    "\n",
    "Pls do not use in built functions - like - sort /sorted / min/max - Pls do not use"
   ]
  },
  {
   "cell_type": "code",
   "execution_count": 10,
   "id": "690dcb1b",
   "metadata": {},
   "outputs": [
    {
     "name": "stdout",
     "output_type": "stream",
     "text": [
      "55\n"
     ]
    }
   ],
   "source": [
    "l = [1,5,55,6,8,9,10,11,14,17,19,22]\n",
    "\n",
    "def largest_ele(l):\n",
    "    '''largest ele of given list'''\n",
    "    largest = l[0]\n",
    "    \n",
    "    for ele in l:\n",
    "        if ele > largest:\n",
    "            largest = ele\n",
    "    return largest\n",
    "\n",
    "print(largest_ele(l))            \n"
   ]
  },
  {
   "cell_type": "markdown",
   "id": "68f50b51",
   "metadata": {},
   "source": [
    "# Q 4 - WAP - String is collection/list of chars within ' ' or \" \" either in sinlge/double quotes - WAP - Reverse string"
   ]
  },
  {
   "cell_type": "code",
   "execution_count": 13,
   "id": "3fb27069",
   "metadata": {},
   "outputs": [
    {
     "name": "stdout",
     "output_type": "stream",
     "text": [
      "dlrow olleh\n"
     ]
    }
   ],
   "source": [
    "s = \"hello world\"\n",
    "output = \"olleh\"\n",
    "\n",
    "def revese_string(txt):\n",
    "    '''revese of given string'''\n",
    "    # slice method\n",
    "    return txt[: :-1]\n",
    "\n",
    "print(revese_string(s))   "
   ]
  },
  {
   "cell_type": "markdown",
   "id": "bafdcdf9",
   "metadata": {},
   "source": [
    "# Q 5 - WAP - Palindrom - or not"
   ]
  },
  {
   "cell_type": "markdown",
   "id": "ee9c9a57",
   "metadata": {},
   "source": [
    "1. find reverse\n",
    "2. compare \n",
    "3. if both are same - Palindrom - it could be  num or string"
   ]
  },
  {
   "cell_type": "code",
   "execution_count": 15,
   "id": "c489a91a",
   "metadata": {},
   "outputs": [
    {
     "name": "stdout",
     "output_type": "stream",
     "text": [
      "Given string madam is palindrom\n"
     ]
    }
   ],
   "source": [
    "s = \"madam\"\n",
    "\n",
    "def check_palindrom(txt): # unit / reusability\n",
    "    if txt == txt[::-1]:\n",
    "        return True\n",
    "    else:\n",
    "        return False\n",
    "    \n",
    "if check_palindrom(s):\n",
    "    print(f\"Given string {s} is palindrom\")\n",
    "else:\n",
    "    print(f\"Given string {s} is not palindrom\")"
   ]
  },
  {
   "cell_type": "markdown",
   "id": "5fbc6695",
   "metadata": {},
   "source": [
    "# Doubt - Pls ASK"
   ]
  },
  {
   "cell_type": "markdown",
   "id": "2c51d8a5",
   "metadata": {},
   "source": [
    "# THANKS"
   ]
  },
  {
   "cell_type": "markdown",
   "id": "89438a6f",
   "metadata": {},
   "source": [
    "# Mentor"
   ]
  },
  {
   "cell_type": "markdown",
   "id": "811eaf6a",
   "metadata": {},
   "source": [
    "# 10 Yrs - 10 Technology"
   ]
  },
  {
   "cell_type": "markdown",
   "id": "fc4a2821",
   "metadata": {},
   "source": [
    "# 23000"
   ]
  },
  {
   "cell_type": "markdown",
   "id": "c3948f7b",
   "metadata": {},
   "source": [
    "# SQL 3 PM TO 5 PM\n",
    "\n",
    "\n",
    "\n",
    "\n"
   ]
  },
  {
   "cell_type": "code",
   "execution_count": null,
   "id": "b9d1df13",
   "metadata": {},
   "outputs": [],
   "source": []
  }
 ],
 "metadata": {
  "kernelspec": {
   "display_name": "Python 3 (ipykernel)",
   "language": "python",
   "name": "python3"
  },
  "language_info": {
   "codemirror_mode": {
    "name": "ipython",
    "version": 3
   },
   "file_extension": ".py",
   "mimetype": "text/x-python",
   "name": "python",
   "nbconvert_exporter": "python",
   "pygments_lexer": "ipython3",
   "version": "3.11.5"
  }
 },
 "nbformat": 4,
 "nbformat_minor": 5
}
